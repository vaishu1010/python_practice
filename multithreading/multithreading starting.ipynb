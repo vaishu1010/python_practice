{
 "cells": [
  {
   "cell_type": "code",
   "execution_count": null,
   "id": "0dca5000",
   "metadata": {},
   "outputs": [],
   "source": [
    "# multithreading:"
   ]
  },
  {
   "cell_type": "code",
   "execution_count": null,
   "id": "9f228f06",
   "metadata": {},
   "outputs": [],
   "source": [
    "# without threading :"
   ]
  },
  {
   "cell_type": "code",
   "execution_count": 14,
   "id": "73fc53d3",
   "metadata": {},
   "outputs": [
    {
     "name": "stdout",
     "output_type": "stream",
     "text": [
      "calculate square of number\n",
      "square: 1\n",
      "square: 4\n",
      "square: 9\n",
      "square: 64\n",
      "square: 81\n",
      "calculate cube of number\n",
      "cube: 1\n",
      "cube: 8\n",
      "cube: 27\n",
      "cube: 512\n",
      "cube: 729\n",
      "Hah..I am done with all my work now!\n"
     ]
    }
   ],
   "source": [
    "import time\n",
    " \n",
    "def calc_sqaure(number):\n",
    "    print(\"calculate square of number\")\n",
    "    for n in number:\n",
    "        \n",
    "        print(\"square:\",n*n)\n",
    "    \n",
    "def calc_cube(number):\n",
    "    print(\"calculate cube of number\")\n",
    "    for n in number:\n",
    "        \n",
    "        print(\"cube:\",n*n*n)\n",
    "        \n",
    "arr = [1,2,3,8,9]\n",
    "\n",
    "calc_sqaure(arr)\n",
    "calc_cube(arr)\n",
    "print(\"Hah..I am done with all my work now!\")"
   ]
  },
  {
   "cell_type": "code",
   "execution_count": 43,
   "id": "01a7c658",
   "metadata": {},
   "outputs": [
    {
     "name": "stdout",
     "output_type": "stream",
     "text": [
      "calculate the division of the number\n",
      "division: 1.0\n",
      "division: 1.0\n",
      "division: 1.0\n",
      "division: 1.0\n",
      "division: 1.0\n",
      "calculate the addition of the number\n",
      "addition: 2\n",
      "addition: 8\n",
      "addition: 12\n",
      "addition: 16\n",
      "addition: 18\n",
      "work done\n"
     ]
    }
   ],
   "source": [
    "import time \n",
    "\n",
    "def calc_division(number):\n",
    "    print(\"calculate the division of the number\")\n",
    "    for n in number:\n",
    "        print(\"division:\",n/n)\n",
    "        \n",
    "def calc_addition(number):\n",
    "    print(\"calculate the addition of the number\")\n",
    "    for n in number:\n",
    "        print(\"addition:\",n+n)\n",
    "arr = [1,4,6,8,9]\n",
    "calc_division(arr)\n",
    "calc_addition(arr)\n",
    "print(\"work done\")"
   ]
  },
  {
   "cell_type": "code",
   "execution_count": 15,
   "id": "4f25b689",
   "metadata": {},
   "outputs": [
    {
     "name": "stdout",
     "output_type": "stream",
     "text": [
      "calculate the cube of the number\n",
      "cube: 1\n",
      "cube: 8\n",
      "cube: 27\n",
      "cube: 64\n",
      "cube: 125\n",
      "cube: 512\n",
      "cube: 729\n",
      "calculate the sqaure of the number\n",
      "square: 1\n",
      "square: 4\n",
      "square: 9\n",
      "square: 16\n",
      "square: 25\n",
      "square: 64\n",
      "square: 81\n",
      "Done all work! \n"
     ]
    }
   ],
   "source": [
    "import time\n",
    "\n",
    "def calc_cube(number):\n",
    "    print(\"calculate the cube of the number\")\n",
    "    for n in number:\n",
    "        print(\"cube:\",n*n*n)\n",
    "        \n",
    "def calc_square(number):\n",
    "    print(\"calculate the sqaure of the number\")\n",
    "    for n in number:\n",
    "        print(\"square:\",n*n)\n",
    "        \n",
    "arr = [1,2,3,4,5,8,9]\n",
    "calc_cube(arr)\n",
    "calc_square(arr)\n",
    "print(\"Done all work! \")\n"
   ]
  },
  {
   "cell_type": "code",
   "execution_count": null,
   "id": "9d0c0346",
   "metadata": {},
   "outputs": [],
   "source": [
    "# with threading"
   ]
  },
  {
   "cell_type": "code",
   "execution_count": 18,
   "id": "dfa88ae5",
   "metadata": {},
   "outputs": [
    {
     "name": "stdout",
     "output_type": "stream",
     "text": [
      "calculate the number of square\n",
      "calculate the number of cube\n",
      "square : 1\n",
      "cube: 1\n",
      "square : 9\n",
      "cube: 27\n",
      "square : 16\n",
      "cube: 64\n",
      "square : 25\n",
      "cube: 125\n",
      "square : 36\n",
      "cube: 216\n",
      "square :cube: 49\n",
      " 343\n",
      "cube:square : 512\n",
      " 64\n",
      "done in : 7.091611862182617\n",
      "Done work!\n"
     ]
    }
   ],
   "source": [
    "import time\n",
    "import threading\n",
    "\n",
    "def calc_square(number):\n",
    "    print(\"calculate the number of square\")\n",
    "    for n in number:\n",
    "        time.sleep(1)\n",
    "        print(\"square :\",n*n)\n",
    "\n",
    "def calc_cube(number):\n",
    "    print(\"calculate the number of cube\")\n",
    "    for n in number:\n",
    "        time.sleep(1)\n",
    "        print(\"cube:\",n*n*n)\n",
    "\n",
    "arr = [1,3,4,5,6,7,8]\n",
    "t = time.time()\n",
    "\n",
    "t1 = threading.Thread(target = calc_square,args = (arr,))\n",
    "t2 = threading.Thread(target = calc_cube,args = (arr,))\n",
    "\n",
    "t1.start()\n",
    "t2.start()\n",
    "\n",
    "t1.join()\n",
    "t2.join()\n",
    "\n",
    "print(\"done in :\",time.time()-t)\n",
    "print(\"Done work!\")\n"
   ]
  },
  {
   "cell_type": "code",
   "execution_count": 47,
   "id": "660c8bf6",
   "metadata": {},
   "outputs": [
    {
     "name": "stdout",
     "output_type": "stream",
     "text": [
      "calculate the division of the number\n",
      "calculate the addition of the number\n",
      "division: 1.0\n",
      "addition: 2\n",
      "division: 1.0\n",
      "addition: 8\n",
      "division: 1.0\n",
      "addition: 12\n",
      "division: 1.0\n",
      "addition: 16\n",
      "division: 1.0\n",
      "addition: 18\n",
      "done in: 5.0586206912994385\n",
      "work done\n"
     ]
    }
   ],
   "source": [
    "import time \n",
    "import threading\n",
    "def calc_division(number):\n",
    "    print(\"calculate the division of the number\")\n",
    "    for n in number:\n",
    "        time.sleep(1)\n",
    "        print(\"division:\",n/n)\n",
    "        \n",
    "def calc_addition(number):\n",
    "    print(\"calculate the addition of the number\")\n",
    "    for n in number:\n",
    "        time.sleep(1)\n",
    "        print(\"addition:\",n+n)\n",
    "arr = [1,4,6,8,9]\n",
    "t= time.time()\n",
    "\n",
    "t1= threading.Thread(target = calc_division,args=(arr,))\n",
    "t2 = threading.Thread(target = calc_addition,args=(arr,))\n",
    "\n",
    "t1.start()\n",
    "t2.start()\n",
    "\n",
    "t1.join()\n",
    "t2.join()\n",
    "\n",
    "print(\"done in:\",time.time()-t)\n",
    "print(\"work done\")"
   ]
  },
  {
   "cell_type": "code",
   "execution_count": null,
   "id": "99f4f003",
   "metadata": {},
   "outputs": [],
   "source": [
    "# creating thread without using class:"
   ]
  },
  {
   "cell_type": "code",
   "execution_count": 29,
   "id": "e95eb2f1",
   "metadata": {},
   "outputs": [
    {
     "name": "stdout",
     "output_type": "stream",
     "text": [
      "child Executing...bye\n",
      "\n",
      "child Executing...\n",
      "child Executing...\n",
      "child Executing...\n",
      "child Executing...\n",
      "child Executing...\n"
     ]
    }
   ],
   "source": [
    "def new():\n",
    "    for x in range(6):\n",
    "        print(\"child Executing...\")\n",
    "t1 = threading.Thread(target = new)\n",
    "t1.start()\n",
    "print(\"bye\")\n"
   ]
  },
  {
   "cell_type": "code",
   "execution_count": 30,
   "id": "2ef24a03",
   "metadata": {},
   "outputs": [
    {
     "name": "stdout",
     "output_type": "stream",
     "text": [
      "child executing...\n",
      "child executing...\n",
      "child executing...\n",
      "child executing...\n",
      "child executing...\n",
      "child executing...\n",
      "child executing...\n",
      "child executing...\n",
      "Bye\n"
     ]
    }
   ],
   "source": [
    "def new():\n",
    "    for x in range(8):\n",
    "        print(\"child executing...\")\n",
    "t1 = threading.Thread(target=new)\n",
    "t1.start()\n",
    "t1.join()\n",
    "print(\"Bye\")\n",
    "        "
   ]
  },
  {
   "cell_type": "code",
   "execution_count": null,
   "id": "a93ffb53",
   "metadata": {},
   "outputs": [],
   "source": [
    "# creating thread using class:"
   ]
  },
  {
   "cell_type": "code",
   "execution_count": 31,
   "id": "42acd29a",
   "metadata": {},
   "outputs": [
    {
     "name": "stdout",
     "output_type": "stream",
     "text": [
      "child\n",
      "child\n",
      "child\n",
      "child\n",
      "child\n",
      "child\n",
      "child\n",
      "control returned to\n"
     ]
    }
   ],
   "source": [
    "class A(threading.Thread):\n",
    "    def run(self):\n",
    "        for x in range(7):\n",
    "            print(\"child\")\n",
    "obj = A()\n",
    "obj.start()\n",
    "obj.join()\n",
    "print(\"control returned to\")"
   ]
  },
  {
   "cell_type": "code",
   "execution_count": 32,
   "id": "e6b0c913",
   "metadata": {},
   "outputs": [
    {
     "name": "stdout",
     "output_type": "stream",
     "text": [
      "vaishnavi\n",
      "vaishnavi\n",
      "vaishnavi\n",
      "vaishnavi\n",
      "vaishnavi\n",
      "vaishnavi\n",
      "vaishnavi\n",
      "vaishnavi\n",
      "The name is vaishnavi\n"
     ]
    }
   ],
   "source": [
    "class A (threading.Thread):\n",
    "    def run(self):\n",
    "        for x in range(8):\n",
    "            print(\"vaishnavi\")\n",
    "obj = A()\n",
    "obj.start()\n",
    "obj.join()\n",
    "print(\"The name is vaishnavi\")\n",
    "        "
   ]
  },
  {
   "cell_type": "code",
   "execution_count": 37,
   "id": "93a6aac7",
   "metadata": {},
   "outputs": [
    {
     "name": "stdout",
     "output_type": "stream",
     "text": [
      "soham\n",
      "soham\n",
      "smart soham\n"
     ]
    }
   ],
   "source": [
    "class A (threading.Thread):\n",
    "    def run(self):\n",
    "        for a in range(2):\n",
    "            time.sleep(1)\n",
    "            print(\"soham\")\n",
    "obj = A()\n",
    "obj.start()\n",
    "obj.join()\n",
    "print(\"smart soham\")"
   ]
  },
  {
   "cell_type": "code",
   "execution_count": 38,
   "id": "b8eaa89e",
   "metadata": {},
   "outputs": [
    {
     "name": "stdout",
     "output_type": "stream",
     "text": [
      "tanu\n",
      "tanu\n",
      "tanu\n",
      "tanu\n",
      "cute tanu\n"
     ]
    }
   ],
   "source": [
    "class A (threading.Thread):\n",
    "    def run (self):\n",
    "        for a in range(4):\n",
    "            time.sleep(0.1)\n",
    "            print(\"tanu\")\n",
    "obj = A()\n",
    "obj.start()\n",
    "obj.join()\n",
    "print(\"cute tanu\")\n",
    "            \n",
    "            "
   ]
  },
  {
   "cell_type": "code",
   "execution_count": null,
   "id": "a3091c21",
   "metadata": {},
   "outputs": [],
   "source": []
  }
 ],
 "metadata": {
  "kernelspec": {
   "display_name": "Python 3 (ipykernel)",
   "language": "python",
   "name": "python3"
  },
  "language_info": {
   "codemirror_mode": {
    "name": "ipython",
    "version": 3
   },
   "file_extension": ".py",
   "mimetype": "text/x-python",
   "name": "python",
   "nbconvert_exporter": "python",
   "pygments_lexer": "ipython3",
   "version": "3.9.7"
  }
 },
 "nbformat": 4,
 "nbformat_minor": 5
}
