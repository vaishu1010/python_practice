{
  "nbformat": 4,
  "nbformat_minor": 0,
  "metadata": {
    "colab": {
      "name": "practice . Q",
      "provenance": []
    },
    "kernelspec": {
      "name": "python3",
      "display_name": "Python 3"
    },
    "language_info": {
      "name": "python"
    }
  },
  "cells": [
    {
      "cell_type": "code",
      "execution_count": 4,
      "metadata": {
        "colab": {
          "base_uri": "https://localhost:8080/"
        },
        "id": "dsk9zYfO4Zdr",
        "outputId": "3fe62bea-3a96-4a5d-ba7b-5bd2d5db6e21"
      },
      "outputs": [
        {
          "output_type": "stream",
          "name": "stdout",
          "text": [
            "AREA OF RECTANGLE\n",
            "Enter the length of the Rectangle5\n",
            "Enter the breath of the rectangle8\n",
            "40\n",
            "The area of rectangle  40\n"
          ]
        }
      ],
      "source": [
        "print(\"AREA OF RECTANGLE\")\n",
        "length = int(input(\"Enter the length of the Rectangle\"))\n",
        "breath = int(input(\"Enter the breath of the rectangle\"))\n",
        "area_of_rectangle = (length * breath)\n",
        "print(area_of_rectangle)\n",
        "print(\"The area of rectangle \", area_of_rectangle)"
      ]
    },
    {
      "cell_type": "code",
      "source": [
        "# Area of square\n",
        "length1=int(input(\"Enter the length of the square\"))\n",
        "length2=int(input(\"Enter the length of the square\"))\n",
        "area_of_square = (length1 * length2)\n",
        "print(area_of_square)\n",
        "print(\"The area of square is \", area_of_square)"
      ],
      "metadata": {
        "colab": {
          "base_uri": "https://localhost:8080/"
        },
        "id": "1gP48hrr5Zpo",
        "outputId": "62561cb5-872e-4835-e012-6ba0c264c6c2"
      },
      "execution_count": 6,
      "outputs": [
        {
          "output_type": "stream",
          "name": "stdout",
          "text": [
            "Enter the length of the square5\n",
            "Enter the length of the square3\n",
            "15\n",
            "The area of square is  15\n"
          ]
        }
      ]
    },
    {
      "cell_type": "code",
      "source": [
        "# Area of circle\n",
        "r=int(input(\"Enter the r of circle:\"))\n",
        "area_of_circle= 3.14*r*r\n",
        "print(area_of_circle)\n",
        "print(\"The area of circle is \", area_of_circle) "
      ],
      "metadata": {
        "colab": {
          "base_uri": "https://localhost:8080/"
        },
        "id": "2wdmHUzy72lK",
        "outputId": "79809e4f-6258-4e92-dbd5-31836ab0f93e"
      },
      "execution_count": 8,
      "outputs": [
        {
          "output_type": "stream",
          "name": "stdout",
          "text": [
            "Enter the r of circle:4\n",
            "50.24\n",
            "The area of circle is  50.24\n"
          ]
        }
      ]
    },
    {
      "cell_type": "code",
      "source": [
        "#Parameter of rectangle\n",
        "length=int(input(\"Enter the length of rectangle:\"))\n",
        "breath= int(input(\"Enter the breath of rectangle:\"))\n",
        "parameter_of_rectangle = 2*length+2*breath\n",
        "print(parameter_of_rectangle)\n",
        "print(\"the parameter of rectangle is\", parameter_of_rectangle)"
      ],
      "metadata": {
        "colab": {
          "base_uri": "https://localhost:8080/"
        },
        "id": "-n98TB_r9pyq",
        "outputId": "e2a6eeba-2415-4b79-805d-75665e386c0f"
      },
      "execution_count": 9,
      "outputs": [
        {
          "output_type": "stream",
          "name": "stdout",
          "text": [
            "Enter the length of rectangle:7\n",
            "Enter the breath of rectangle:9\n",
            "32\n",
            "the parameter of rectangle is 32\n"
          ]
        }
      ]
    },
    {
      "cell_type": "code",
      "source": [
        "#parameter of square \n",
        "length=int(input(\"Enter the length of the square : \"))\n",
        "parameter_of_square=4*length\n",
        "print(parameter_of_square)\n",
        "print(\"The parameter of square is \", parameter_of_square)"
      ],
      "metadata": {
        "colab": {
          "base_uri": "https://localhost:8080/"
        },
        "id": "TUewetLT_NqQ",
        "outputId": "a8608785-4acd-4d33-d7ac-1dfe95948efb"
      },
      "execution_count": 10,
      "outputs": [
        {
          "output_type": "stream",
          "name": "stdout",
          "text": [
            "Enter the length of the square8\n",
            "32\n",
            "The parameter of square is  32\n"
          ]
        }
      ]
    },
    {
      "cell_type": "code",
      "source": [
        "#circumferences of circle\n",
        "r= int(input(\"Enetr the r of circle :\"))\n",
        "circumferences_of_circle= 2*3.14*r\n",
        "print(\"The circumferences of circle is \", circumferences_of_circle)\n",
        "\n"
      ],
      "metadata": {
        "colab": {
          "base_uri": "https://localhost:8080/"
        },
        "id": "Dt122DZUAMrn",
        "outputId": "46869007-0988-4463-9f97-ddd5f4d4f596"
      },
      "execution_count": 11,
      "outputs": [
        {
          "output_type": "stream",
          "name": "stdout",
          "text": [
            "Enetr the r of circle :8\n",
            "The circumferences of circle is  50.24\n"
          ]
        }
      ]
    },
    {
      "cell_type": "code",
      "source": [
        "#volume of cube\n",
        "length= int(input(\"Enetr the length of cube : \"))\n",
        "volume_of_cube= length*length*length\n",
        "print(\"The volume of cube is \", volume_of_cube)"
      ],
      "metadata": {
        "colab": {
          "base_uri": "https://localhost:8080/"
        },
        "id": "x04B-rgQBnkQ",
        "outputId": "193b1252-a01c-4675-d615-a73694f66fba"
      },
      "execution_count": 13,
      "outputs": [
        {
          "output_type": "stream",
          "name": "stdout",
          "text": [
            "Enetr the length of cube : 6\n",
            "The volume of cube is  216\n"
          ]
        }
      ]
    },
    {
      "cell_type": "code",
      "source": [
        "#surface area of cube\n",
        "length=int(input(\"Enter the length of cube : \"))\n",
        "Total_surface_area_of_cube=6*length*length\n",
        "print(\"The total surface area of cube is \", Total_surface_area_of_cube)"
      ],
      "metadata": {
        "colab": {
          "base_uri": "https://localhost:8080/"
        },
        "id": "pQUl--_GCXcY",
        "outputId": "990067c4-69f7-4310-9c1b-92eb6f314157"
      },
      "execution_count": 14,
      "outputs": [
        {
          "output_type": "stream",
          "name": "stdout",
          "text": [
            "Enter the length of cube : 9\n",
            "The total surface area of cube is  486\n"
          ]
        }
      ]
    },
    {
      "cell_type": "code",
      "source": [
        "#volume of cuboid\n",
        "l=float(input(\"Enter the length of cuboid :\"))\n",
        "b=float(input(\"Enter the breath of cuboid :\")) \n",
        "h=float(input(\"Enter the heigth of cuboid :\"))\n",
        "volume_of_cuboid=l*b*h\n",
        "print(\"The volume of cuboid is \", volume_of_cuboid )"
      ],
      "metadata": {
        "colab": {
          "base_uri": "https://localhost:8080/"
        },
        "id": "3MWBIsGZDlW9",
        "outputId": "eb56d6f9-7dbc-4032-c028-fbe27f5fb431"
      },
      "execution_count": 15,
      "outputs": [
        {
          "output_type": "stream",
          "name": "stdout",
          "text": [
            "Enter the length of cuboid :4\n",
            "Enter the breath of cuboid :6\n",
            "Enter the heigth of cuboid :9\n",
            "The volume of cuboid is  216.0\n"
          ]
        }
      ]
    },
    {
      "cell_type": "code",
      "source": [
        "#total surface area of cuboid\n",
        "l=int(input(\"Enter the length of cuboid :\"))\n",
        "b=int(input(\"Enter the breath of cuboid :\"))\n",
        "h=int(input(\"Enter the heigth of cuboid :\"))\n",
        "Total_surface_area_of_cuboid=l*b+b*h+l*h\n",
        "print(\"The total surface area of cuboid is \", Total_surface_area_of_cuboid)"
      ],
      "metadata": {
        "colab": {
          "base_uri": "https://localhost:8080/"
        },
        "id": "sN7x4ldwGCd3",
        "outputId": "84c17736-037e-4a8f-968c-e6a7f4a87861"
      },
      "execution_count": 17,
      "outputs": [
        {
          "output_type": "stream",
          "name": "stdout",
          "text": [
            "Enter the length of cuboid :7\n",
            "Enter the breath of cuboid :5\n",
            "Enter the heigth of cuboid :4\n",
            "The total surface area of cuboid is  83\n"
          ]
        }
      ]
    },
    {
      "cell_type": "code",
      "source": [
        ""
      ],
      "metadata": {
        "id": "JHBnaZpuHbOl"
      },
      "execution_count": null,
      "outputs": []
    }
  ]
}