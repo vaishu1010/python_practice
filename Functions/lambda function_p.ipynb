{
 "cells": [
  {
   "cell_type": "code",
   "execution_count": null,
   "id": "5e87a797",
   "metadata": {},
   "outputs": [],
   "source": [
    "# Lambda function:"
   ]
  },
  {
   "cell_type": "code",
   "execution_count": 1,
   "id": "c5949243",
   "metadata": {},
   "outputs": [
    {
     "name": "stdout",
     "output_type": "stream",
     "text": [
      "15\n"
     ]
    }
   ],
   "source": [
    "x = lambda a:a+10\n",
    "print(x(5))"
   ]
  },
  {
   "cell_type": "code",
   "execution_count": 2,
   "id": "dc1f7f59",
   "metadata": {},
   "outputs": [
    {
     "name": "stdout",
     "output_type": "stream",
     "text": [
      "30\n"
     ]
    }
   ],
   "source": [
    "x = lambda a, b :a*b\n",
    "print(x(5,6))"
   ]
  },
  {
   "cell_type": "code",
   "execution_count": 3,
   "id": "5f26882e",
   "metadata": {},
   "outputs": [
    {
     "name": "stdout",
     "output_type": "stream",
     "text": [
      "13\n"
     ]
    }
   ],
   "source": [
    "x= lambda a,b,c:a+b+c\n",
    "print(x(5,6,2))"
   ]
  },
  {
   "cell_type": "code",
   "execution_count": 4,
   "id": "b8413e36",
   "metadata": {},
   "outputs": [
    {
     "name": "stdout",
     "output_type": "stream",
     "text": [
      "2.0\n"
     ]
    }
   ],
   "source": [
    "x = lambda a,b :a/b\n",
    "print(x(4,2))"
   ]
  },
  {
   "cell_type": "code",
   "execution_count": 5,
   "id": "fd9d760a",
   "metadata": {},
   "outputs": [
    {
     "data": {
      "text/plain": [
       "25"
      ]
     },
     "execution_count": 5,
     "metadata": {},
     "output_type": "execute_result"
    }
   ],
   "source": [
    "# we can declare a function and call it as anonymous function without assigning\n",
    "(lambda x:x*x)(5)"
   ]
  },
  {
   "cell_type": "code",
   "execution_count": 6,
   "id": "e4d6050d",
   "metadata": {},
   "outputs": [
    {
     "name": "stdout",
     "output_type": "stream",
     "text": [
      "calling function argument:\n",
      "Hello world\n"
     ]
    }
   ],
   "source": [
    "# normal function\n",
    "def dosomething(fn):\n",
    "    print('calling function argument:')\n",
    "    fn()\n",
    "    \n",
    " # without variable lambda function\n",
    "dosomething(lambda:print('Hello world'))#passing anonymous function\n",
    "\n",
    "    "
   ]
  },
  {
   "cell_type": "code",
   "execution_count": null,
   "id": "50c37e5b",
   "metadata": {},
   "outputs": [],
   "source": [
    "# Example 1: program for even numbers without lambda function\n",
    "def even_number(nums):\n",
    "    even_list = []\n",
    "    for n in nums:\n",
    "        if n%2==0:\n",
    "        even_list.append(n)\n",
    "    return even_list\n",
    "\n",
    "num_list = [10,5,12,78,6,1,7,9]"
   ]
  }
 ],
 "metadata": {
  "kernelspec": {
   "display_name": "Python 3 (ipykernel)",
   "language": "python",
   "name": "python3"
  },
  "language_info": {
   "codemirror_mode": {
    "name": "ipython",
    "version": 3
   },
   "file_extension": ".py",
   "mimetype": "text/x-python",
   "name": "python",
   "nbconvert_exporter": "python",
   "pygments_lexer": "ipython3",
   "version": "3.9.7"
  }
 },
 "nbformat": 4,
 "nbformat_minor": 5
}
