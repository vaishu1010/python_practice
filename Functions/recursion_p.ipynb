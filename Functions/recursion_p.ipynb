{
 "cells": [
  {
   "cell_type": "code",
   "execution_count": 1,
   "id": "4e736f1f",
   "metadata": {},
   "outputs": [
    {
     "name": "stdout",
     "output_type": "stream",
     "text": [
      "The factorial of 5 is 120\n",
      "120\n"
     ]
    }
   ],
   "source": [
    "def fac(n):\n",
    "    f = 1\n",
    "    for i in range(1,n+1):\n",
    "        f=f*i\n",
    "    print(\"The factorial of\",n,\"is\",f)\n",
    "    print(f)\n",
    "fac(5)   "
   ]
  },
  {
   "cell_type": "code",
   "execution_count": null,
   "id": "e71399ff",
   "metadata": {},
   "outputs": [],
   "source": [
    "# Recursion:"
   ]
  },
  {
   "cell_type": "code",
   "execution_count": 6,
   "id": "98101dd1",
   "metadata": {},
   "outputs": [
    {
     "name": "stdout",
     "output_type": "stream",
     "text": [
      "Factorial of a number is : 362880\n"
     ]
    }
   ],
   "source": [
    "def factorial(no):\n",
    "    if no==0:\n",
    "        return 1\n",
    "    else:\n",
    "        return no *factorial(no-1)\n",
    "print(\"Factorial of a number is :\",factorial(9))"
   ]
  },
  {
   "cell_type": "code",
   "execution_count": 13,
   "id": "68a2392d",
   "metadata": {},
   "outputs": [
    {
     "name": "stdout",
     "output_type": "stream",
     "text": [
      "factorial of a number is : 40320\n"
     ]
    }
   ],
   "source": [
    "def factorial(n):\n",
    "    if n==0\n",
    "        return 1\n",
    "    else:\n",
    "          return n *factorial (n-1)\n",
    "print(\"factorial of a number is :\",factorial(8))"
   ]
  },
  {
   "cell_type": "code",
   "execution_count": null,
   "id": "d10de8bd",
   "metadata": {},
   "outputs": [],
   "source": [
    "# write a python program to calc the sum of a list of number."
   ]
  },
  {
   "cell_type": "code",
   "execution_count": 29,
   "id": "a29e9f48",
   "metadata": {},
   "outputs": [
    {
     "name": "stdout",
     "output_type": "stream",
     "text": [
      "21\n"
     ]
    }
   ],
   "source": [
    "listsum =[1,2,3,4,5,6]\n",
    "def listsum(a):\n",
    "    if len(a)==1: \n",
    "        return a[0]\n",
    "    else:\n",
    "        return a[0] +listsum(a[1:])\n",
    "print(listsum([1,2,3,4,5,6]))"
   ]
  },
  {
   "cell_type": "code",
   "execution_count": null,
   "id": "152f584a",
   "metadata": {},
   "outputs": [],
   "source": [
    "# write a  python program to solve the fibonacci sequences using recursion. "
   ]
  },
  {
   "cell_type": "code",
   "execution_count": 34,
   "id": "0d540bcb",
   "metadata": {},
   "outputs": [
    {
     "name": "stdout",
     "output_type": "stream",
     "text": [
      "fibonacci sequence is: 44\n"
     ]
    }
   ],
   "source": [
    "def fibonacci(n):\n",
    "    if n<=1:\n",
    "        return 0\n",
    "    else:\n",
    "        return n + fibonacci(n-1)\n",
    "print(\"fibonacci sequence is:\",fibonacci(9))"
   ]
  },
  {
   "cell_type": "code",
   "execution_count": null,
   "id": "f3fb4589",
   "metadata": {},
   "outputs": [],
   "source": [
    "# A recursiom python program to check whether  agiven number is palindroma or not"
   ]
  },
  {
   "cell_type": "code",
   "execution_count": 1,
   "id": "7ee46bcd",
   "metadata": {},
   "outputs": [
    {
     "name": "stdout",
     "output_type": "stream",
     "text": [
      "The number is palidroma : 8\n"
     ]
    }
   ],
   "source": [
    "def palindroma(a):\n",
    "    if a<=1:\n",
    "        return a\n",
    "    else:\n",
    "        return palindroma(a-1) + palindroma(a-2)\n",
    "print(\"The number is palidroma :\",palindroma(6))"
   ]
  },
  {
   "cell_type": "code",
   "execution_count": null,
   "id": "17f3bb99",
   "metadata": {},
   "outputs": [],
   "source": [
    "# write a reccursive function that takes a natural number and return the sum of all the number and return the sum of all the numbers from zero to that number.(0,10)"
   ]
  },
  {
   "cell_type": "code",
   "execution_count": 40,
   "id": "1762f255",
   "metadata": {},
   "outputs": [
    {
     "data": {
      "text/plain": [
       "6"
      ]
     },
     "execution_count": 40,
     "metadata": {},
     "output_type": "execute_result"
    }
   ],
   "source": [
    "def sum(n):\n",
    "    if n==1:\n",
    "        return 1\n",
    "    else:\n",
    "        return n +sum(n-1)\n",
    "sum(3)    "
   ]
  },
  {
   "cell_type": "code",
   "execution_count": null,
   "id": "c5ecdcce",
   "metadata": {},
   "outputs": [],
   "source": []
  }
 ],
 "metadata": {
  "kernelspec": {
   "display_name": "Python 3 (ipykernel)",
   "language": "python",
   "name": "python3"
  },
  "language_info": {
   "codemirror_mode": {
    "name": "ipython",
    "version": 3
   },
   "file_extension": ".py",
   "mimetype": "text/x-python",
   "name": "python",
   "nbconvert_exporter": "python",
   "pygments_lexer": "ipython3",
   "version": "3.9.7"
  }
 },
 "nbformat": 4,
 "nbformat_minor": 5
}
