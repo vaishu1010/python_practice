{
 "cells": [
  {
   "cell_type": "code",
   "execution_count": 3,
   "id": "5f969a10",
   "metadata": {},
   "outputs": [
    {
     "name": "stdout",
     "output_type": "stream",
     "text": [
      "Nettech of india\n"
     ]
    }
   ],
   "source": [
    "def  messeage():\n",
    "    print(\"Nettech of india\")\n",
    "# call function \n",
    "messeage()\n"
   ]
  },
  {
   "cell_type": "code",
   "execution_count": 14,
   "id": "3de7637a",
   "metadata": {
    "scrolled": true
   },
   "outputs": [
    {
     "name": "stdout",
     "output_type": "stream",
     "text": [
      "vaishnavi akre\n"
     ]
    }
   ],
   "source": [
    "def call(name, surname):\n",
    "    print( name+\" \"+ surname)\n",
    "call(\"vaishnavi\" , \"akre\") "
   ]
  },
  {
   "cell_type": "code",
   "execution_count": 15,
   "id": "5df49c5d",
   "metadata": {},
   "outputs": [
    {
     "data": {
      "text/plain": [
       "11"
      ]
     },
     "execution_count": 15,
     "metadata": {},
     "output_type": "execute_result"
    }
   ],
   "source": [
    "def my_fuction(a,b):\n",
    "    return a+b\n",
    "my_fuction(5,6)"
   ]
  },
  {
   "cell_type": "code",
   "execution_count": 16,
   "id": "0d07c783",
   "metadata": {},
   "outputs": [
    {
     "data": {
      "text/plain": [
       "2"
      ]
     },
     "execution_count": 16,
     "metadata": {},
     "output_type": "execute_result"
    }
   ],
   "source": [
    "def message(a,b):\n",
    "    return a-b\n",
    "message(5,3)"
   ]
  },
  {
   "cell_type": "code",
   "execution_count": 24,
   "id": "0d88c4ed",
   "metadata": {},
   "outputs": [
    {
     "name": "stdout",
     "output_type": "stream",
     "text": [
      "The youngest child is c\n"
     ]
    }
   ],
   "source": [
    "def my_fuction(*kids):\n",
    "    print(\"The youngest child is \" + kids[2])\n",
    "my_fuction('a','b','c')"
   ]
  },
  {
   "cell_type": "code",
   "execution_count": 28,
   "id": "e10d93d9",
   "metadata": {},
   "outputs": [
    {
     "name": "stdout",
     "output_type": "stream",
     "text": [
      "The youngest child is 6\n"
     ]
    }
   ],
   "source": [
    "def my_fuction (**kids):\n",
    "    print(\"The youngest child is \"+ kids['a'])\n",
    "my_fuction(c='2',b='5',a='6')"
   ]
  },
  {
   "cell_type": "code",
   "execution_count": 32,
   "id": "639beac4",
   "metadata": {},
   "outputs": [
    {
     "name": "stdout",
     "output_type": "stream",
     "text": [
      "The youngest child is b\n"
     ]
    }
   ],
   "source": [
    "def ny_fuction (kid1,kid2,kid3):\n",
    "    print(\"The youngest child is \"+ kid2)\n",
    "ny_fuction(kid1='a',kid2='b',kid3='c')\n",
    "    "
   ]
  },
  {
   "cell_type": "code",
   "execution_count": 33,
   "id": "8f259e1f",
   "metadata": {},
   "outputs": [
    {
     "name": "stdout",
     "output_type": "stream",
     "text": [
      "i am from is america\n",
      "i am from is london\n",
      "i am from is india\n",
      "i am from is US\n"
     ]
    }
   ],
   "source": [
    "def my_function(country=\"india\"):\n",
    "    print(\"i am from is \"+ country)\n",
    "my_function(\"america\")\n",
    "my_function(\"london\")\n",
    "my_function()\n",
    "my_function(\"US\")"
   ]
  },
  {
   "cell_type": "code",
   "execution_count": 36,
   "id": "b0b408ff",
   "metadata": {},
   "outputs": [
    {
     "name": "stdout",
     "output_type": "stream",
     "text": [
      "mango\n",
      "banana\n",
      "chiku\n"
     ]
    }
   ],
   "source": [
    "def my_function(food):\n",
    "    for x in food:\n",
    "        print(x)\n",
    "fruits=('mango','banana','chiku') \n",
    "my_function(fruits)"
   ]
  },
  {
   "cell_type": "code",
   "execution_count": 53,
   "id": "2527aae5",
   "metadata": {},
   "outputs": [
    {
     "name": "stdout",
     "output_type": "stream",
     "text": [
      "Addition: 14\n",
      "subtraction: 6\n",
      "division: 2.5\n",
      "multiplication: 40\n"
     ]
    }
   ],
   "source": [
    "def arthimetic(num1,num2):\n",
    "    add = num1+num2 \n",
    "    sub = num1-num2\n",
    "    division = num1/num2\n",
    "    multiplication= num1*num2\n",
    "    return add, sub, division, multiplication\n",
    "\n",
    "a,b,c,d= arthimetic(10,4)\n",
    "\n",
    "print(\"Addition:\", a)\n",
    "print(\"subtraction:\", b)\n",
    "print(\"division:\", c)\n",
    "print(\"multiplication:\", d)"
   ]
  },
  {
   "cell_type": "code",
   "execution_count": 55,
   "id": "c2d0f088",
   "metadata": {},
   "outputs": [
    {
     "name": "stdout",
     "output_type": "stream",
     "text": [
      "30\n",
      "14\n"
     ]
    }
   ],
   "source": [
    "def sum(a,b):\n",
    "    return a+b\n",
    "total= sum(10,20)\n",
    "print(total)\n",
    "total=sum(5,sum(4,5))\n",
    "print(total)"
   ]
  },
  {
   "cell_type": "code",
   "execution_count": 57,
   "id": "8a1c4794",
   "metadata": {},
   "outputs": [
    {
     "name": "stdout",
     "output_type": "stream",
     "text": [
      "70\n",
      "80\n"
     ]
    }
   ],
   "source": [
    "def sum(a,b):\n",
    "    return a+b\n",
    "total=sum(30,40)\n",
    "print(total)\n",
    "total=sum(30,sum(20,30))\n",
    "print(total)"
   ]
  },
  {
   "cell_type": "code",
   "execution_count": 59,
   "id": "25afe8ac",
   "metadata": {},
   "outputs": [
    {
     "data": {
      "text/plain": [
       "3"
      ]
     },
     "execution_count": 59,
     "metadata": {},
     "output_type": "execute_result"
    }
   ],
   "source": [
    "def sub(a,b):\n",
    "    return a-b\n",
    "sub(6,3)"
   ]
  },
  {
   "cell_type": "code",
   "execution_count": 2,
   "id": "542f668b",
   "metadata": {},
   "outputs": [
    {
     "data": {
      "text/plain": [
       "(11, -1, 0.8333333333333334, 30)"
      ]
     },
     "execution_count": 2,
     "metadata": {},
     "output_type": "execute_result"
    }
   ],
   "source": [
    "def calc(num1,num2):\n",
    "    add = num1+num2\n",
    "    sub = num1-num2\n",
    "    division = num1/num2\n",
    "    multiplication = num1*num2\n",
    "    return add , sub , division , multiplication\n",
    "calc(5,6)"
   ]
  },
  {
   "cell_type": "code",
   "execution_count": 3,
   "id": "02128fce",
   "metadata": {},
   "outputs": [
    {
     "data": {
      "text/plain": [
       "8"
      ]
     },
     "execution_count": 3,
     "metadata": {},
     "output_type": "execute_result"
    }
   ],
   "source": [
    "def sum(a,b):\n",
    "    return a+b\n",
    "sum(3,5)"
   ]
  },
  {
   "cell_type": "code",
   "execution_count": 10,
   "id": "223fed2c",
   "metadata": {},
   "outputs": [
    {
     "name": "stdout",
     "output_type": "stream",
     "text": [
      "The youngest kids is  b\n"
     ]
    }
   ],
   "source": [
    "def mumber(*kids):\n",
    "        print(\"The youngest kids is  \" + kids[1])\n",
    "mumber('a','b','c','d')"
   ]
  },
  {
   "cell_type": "code",
   "execution_count": 12,
   "id": "c6e1d9b6",
   "metadata": {},
   "outputs": [
    {
     "data": {
      "text/plain": [
       "' The youngest kids is c'"
      ]
     },
     "execution_count": 12,
     "metadata": {},
     "output_type": "execute_result"
    }
   ],
   "source": [
    "def mumber (*kids):\n",
    "    return \" The youngest kids is \" + kids[2]\n",
    "mumber('a','b','c','d')"
   ]
  },
  {
   "cell_type": "code",
   "execution_count": null,
   "id": "1e9d8f2b",
   "metadata": {},
   "outputs": [],
   "source": []
  }
 ],
 "metadata": {
  "kernelspec": {
   "display_name": "Python 3 (ipykernel)",
   "language": "python",
   "name": "python3"
  },
  "language_info": {
   "codemirror_mode": {
    "name": "ipython",
    "version": 3
   },
   "file_extension": ".py",
   "mimetype": "text/x-python",
   "name": "python",
   "nbconvert_exporter": "python",
   "pygments_lexer": "ipython3",
   "version": "3.9.7"
  }
 },
 "nbformat": 4,
 "nbformat_minor": 5
}
