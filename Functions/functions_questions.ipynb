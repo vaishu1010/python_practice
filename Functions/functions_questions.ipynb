{
 "cells": [
  {
   "cell_type": "code",
   "execution_count": null,
   "id": "dda1b2ca",
   "metadata": {},
   "outputs": [],
   "source": [
    "1. Make a calculator using function."
   ]
  },
  {
   "cell_type": "code",
   "execution_count": 1,
   "id": "02f4c7a7",
   "metadata": {},
   "outputs": [
    {
     "data": {
      "text/plain": [
       "(11, -1, 0.8333333333333334, 30)"
      ]
     },
     "execution_count": 1,
     "metadata": {},
     "output_type": "execute_result"
    }
   ],
   "source": [
    "def calc(num1,num2):\n",
    "    add = num1+num2\n",
    "    sub = num1-num2\n",
    "    division = num1/num2\n",
    "    multiplication = num1*num2\n",
    "    return add , sub , division , multiplication\n",
    "calc(5,6)"
   ]
  },
  {
   "cell_type": "code",
   "execution_count": null,
   "id": "09b1d7bd",
   "metadata": {},
   "outputs": [],
   "source": [
    "2. Calculate sum of first n numbers."
   ]
  },
  {
   "cell_type": "code",
   "execution_count": 2,
   "id": "2dc94308",
   "metadata": {},
   "outputs": [
    {
     "data": {
      "text/plain": [
       "8"
      ]
     },
     "execution_count": 2,
     "metadata": {},
     "output_type": "execute_result"
    }
   ],
   "source": [
    "def sum(a,b):\n",
    "    return a+b\n",
    "sum(3,5)"
   ]
  },
  {
   "cell_type": "code",
   "execution_count": null,
   "id": "ec5cf5e2",
   "metadata": {},
   "outputs": [],
   "source": [
    "3. Write  a python function that takes a list and returns a new list and returns a new list with unique elements \n",
    "of the first list."
   ]
  },
  {
   "cell_type": "code",
   "execution_count": 42,
   "id": "c05b4d2e",
   "metadata": {},
   "outputs": [
    {
     "name": "stdout",
     "output_type": "stream",
     "text": [
      "1\n",
      "9\n",
      "0\n"
     ]
    }
   ],
   "source": [
    "def list1():\n",
    "    list = [1,2,3,4,9,0]\n",
    "    new_list = [2,4,6,7,3,8]\n",
    "    \n",
    "    for x in list:\n",
    "        if x not in new_list:\n",
    "            print(x)\n",
    "list1()           \n",
    "    "
   ]
  },
  {
   "cell_type": "code",
   "execution_count": null,
   "id": "d969082c",
   "metadata": {},
   "outputs": [],
   "source": [
    "4.Find Maximum and minimum number from two number using function. "
   ]
  },
  {
   "cell_type": "code",
   "execution_count": 54,
   "id": "6566f93a",
   "metadata": {},
   "outputs": [
    {
     "name": "stdout",
     "output_type": "stream",
     "text": [
      "7 is maximum as compare to  5\n",
      "3 is minimum as compare to  9\n"
     ]
    }
   ],
   "source": [
    "def num(a,b):\n",
    "    if a>b:\n",
    "        print(a,\"is maximum as compare to \",b)\n",
    "    else:     \n",
    "        print(a,\"is minimum as compare to \",b)\n",
    "\n",
    "num(7,5)        \n",
    "    \n",
    "num(3,9)        "
   ]
  },
  {
   "cell_type": "code",
   "execution_count": null,
   "id": "735c0fb8",
   "metadata": {},
   "outputs": [],
   "source": [
    "5. Find the number of uppercases and lowercases letters in string."
   ]
  },
  {
   "cell_type": "code",
   "execution_count": 90,
   "id": "165c396f",
   "metadata": {},
   "outputs": [
    {
     "ename": "KeyError",
     "evalue": "'uppercases'",
     "output_type": "error",
     "traceback": [
      "\u001b[1;31m---------------------------------------------------------------------------\u001b[0m",
      "\u001b[1;31mKeyError\u001b[0m                                  Traceback (most recent call last)",
      "\u001b[1;32m~\\AppData\\Local\\Temp/ipykernel_1632/1218948126.py\u001b[0m in \u001b[0;36m<module>\u001b[1;34m\u001b[0m\n\u001b[0;32m     11\u001b[0m     \u001b[0mprint\u001b[0m\u001b[1;33m(\u001b[0m\u001b[1;34m\"number of uppercases letters is:\"\u001b[0m\u001b[1;33m,\u001b[0m\u001b[0md\u001b[0m\u001b[1;33m[\u001b[0m\u001b[1;34m\"uppercases\"\u001b[0m\u001b[1;33m]\u001b[0m\u001b[1;33m)\u001b[0m\u001b[1;33m\u001b[0m\u001b[1;33m\u001b[0m\u001b[0m\n\u001b[0;32m     12\u001b[0m     \u001b[0mprint\u001b[0m\u001b[1;33m(\u001b[0m\u001b[1;34m\"number of lowercases letters is:\"\u001b[0m\u001b[1;33m,\u001b[0m\u001b[0md\u001b[0m\u001b[1;33m[\u001b[0m\u001b[1;34m\"lowercases\"\u001b[0m\u001b[1;33m]\u001b[0m\u001b[1;33m)\u001b[0m\u001b[1;33m\u001b[0m\u001b[1;33m\u001b[0m\u001b[0m\n\u001b[1;32m---> 13\u001b[1;33m \u001b[0mstring\u001b[0m\u001b[1;33m(\u001b[0m\u001b[1;34m'Hello world'\u001b[0m\u001b[1;33m)\u001b[0m\u001b[1;33m\u001b[0m\u001b[1;33m\u001b[0m\u001b[0m\n\u001b[0m",
      "\u001b[1;32m~\\AppData\\Local\\Temp/ipykernel_1632/1218948126.py\u001b[0m in \u001b[0;36mstring\u001b[1;34m(a)\u001b[0m\n\u001b[0;32m      3\u001b[0m     \u001b[1;32mfor\u001b[0m \u001b[0mi\u001b[0m \u001b[1;32min\u001b[0m \u001b[0ma\u001b[0m\u001b[1;33m:\u001b[0m\u001b[1;33m\u001b[0m\u001b[1;33m\u001b[0m\u001b[0m\n\u001b[0;32m      4\u001b[0m         \u001b[1;32mif\u001b[0m \u001b[0mi\u001b[0m\u001b[1;33m.\u001b[0m\u001b[0misupper\u001b[0m\u001b[1;33m(\u001b[0m\u001b[1;33m)\u001b[0m\u001b[1;33m:\u001b[0m\u001b[1;33m\u001b[0m\u001b[1;33m\u001b[0m\u001b[0m\n\u001b[1;32m----> 5\u001b[1;33m             \u001b[0md\u001b[0m\u001b[1;33m[\u001b[0m\u001b[1;34m'uppercases'\u001b[0m\u001b[1;33m]\u001b[0m\u001b[1;33m+=\u001b[0m\u001b[1;36m1\u001b[0m\u001b[1;33m\u001b[0m\u001b[1;33m\u001b[0m\u001b[0m\n\u001b[0m\u001b[0;32m      6\u001b[0m         \u001b[1;32melif\u001b[0m \u001b[0mi\u001b[0m \u001b[1;33m.\u001b[0m\u001b[0mislower\u001b[0m\u001b[1;33m(\u001b[0m\u001b[1;33m)\u001b[0m\u001b[1;33m:\u001b[0m\u001b[1;33m\u001b[0m\u001b[1;33m\u001b[0m\u001b[0m\n\u001b[0;32m      7\u001b[0m             \u001b[0md\u001b[0m\u001b[1;33m[\u001b[0m\u001b[1;34m'lowercases'\u001b[0m\u001b[1;33m]\u001b[0m\u001b[1;33m+=\u001b[0m\u001b[1;36m1\u001b[0m\u001b[1;33m\u001b[0m\u001b[1;33m\u001b[0m\u001b[0m\n",
      "\u001b[1;31mKeyError\u001b[0m: 'uppercases'"
     ]
    }
   ],
   "source": [
    "def string(a):\n",
    "    d = {'uppercaeses':0,'lowercases':0}\n",
    "    for i in a:\n",
    "        if i.isupper():\n",
    "            d['uppercases']+=1\n",
    "        elif i .islower():\n",
    "            d['lowercases']+=1\n",
    "        else:\n",
    "            pass\n",
    "    print(\"enter the string:\",a)\n",
    "    print(\"number of uppercases letters is:\",d[\"uppercases\"])\n",
    "    print(\"number of lowercases letters is:\",d[\"lowercases\"])\n",
    "string('Hello world')"
   ]
  },
  {
   "cell_type": "code",
   "execution_count": null,
   "id": "26924b64",
   "metadata": {},
   "outputs": [],
   "source": [
    "6.Write a program to check whether the number is prime or not."
   ]
  },
  {
   "cell_type": "code",
   "execution_count": 81,
   "id": "46095630",
   "metadata": {},
   "outputs": [
    {
     "name": "stdout",
     "output_type": "stream",
     "text": [
      "Enter num:3\n",
      "3 is a prime number\n"
     ]
    }
   ],
   "source": [
    "def num():\n",
    "    num=int(input(\"Enter num:\"))\n",
    "    for i in range(2,num):\n",
    "            if (num%i)!=0:\n",
    "                print(num,'is a prime number')\n",
    "            elif (num%i)==0:\n",
    "                print(num,'is a not prime number')\n",
    "            else:\n",
    "                pass\n",
    "            \n",
    "num()"
   ]
  },
  {
   "cell_type": "code",
   "execution_count": null,
   "id": "30ebfa51",
   "metadata": {},
   "outputs": [],
   "source": [
    "7. Display the powers of 2 using anonymous functions."
   ]
  },
  {
   "cell_type": "code",
   "execution_count": null,
   "id": "6f3cace0",
   "metadata": {},
   "outputs": [],
   "source": [
    " def power = (**x):\n",
    "        "
   ]
  },
  {
   "cell_type": "code",
   "execution_count": null,
   "id": "f3f1879f",
   "metadata": {},
   "outputs": [],
   "source": [
    "8.write the a function check(key) which takes a key as an arguments and check \n",
    "whether that key is present in dictionary or not."
   ]
  },
  {
   "cell_type": "code",
   "execution_count": null,
   "id": "3b0a0846",
   "metadata": {},
   "outputs": [],
   "source": []
  },
  {
   "cell_type": "code",
   "execution_count": null,
   "id": "e0bf5c78",
   "metadata": {},
   "outputs": [],
   "source": []
  }
 ],
 "metadata": {
  "kernelspec": {
   "display_name": "Python 3 (ipykernel)",
   "language": "python",
   "name": "python3"
  },
  "language_info": {
   "codemirror_mode": {
    "name": "ipython",
    "version": 3
   },
   "file_extension": ".py",
   "mimetype": "text/x-python",
   "name": "python",
   "nbconvert_exporter": "python",
   "pygments_lexer": "ipython3",
   "version": "3.9.7"
  }
 },
 "nbformat": 4,
 "nbformat_minor": 5
}
