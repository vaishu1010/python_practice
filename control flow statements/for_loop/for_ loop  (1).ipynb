{
 "cells": [
  {
   "cell_type": "code",
   "execution_count": 7,
   "id": "7eed150a",
   "metadata": {},
   "outputs": [
    {
     "name": "stdout",
     "output_type": "stream",
     "text": [
      "2 4 6 8 10 "
     ]
    }
   ],
   "source": [
    "# Write  a program to print first 10 even numbers.\n",
    "x = 10\n",
    "i = 1\n",
    "while i<=x :\n",
    "    if i % 2 == 0:\n",
    "    \n",
    "     print(i, end=\" \")\n",
    "    i=i+1"
   ]
  },
  {
   "cell_type": "code",
   "execution_count": 4,
   "id": "6521b64f",
   "metadata": {},
   "outputs": [
    {
     "ename": "SyntaxError",
     "evalue": "cannot assign to operator (Temp/ipykernel_7636/1026858114.py, line 6)",
     "output_type": "error",
     "traceback": [
      "\u001b[1;36m  File \u001b[1;32m\"C:\\Users\\HP\\AppData\\Local\\Temp/ipykernel_7636/1026858114.py\"\u001b[1;36m, line \u001b[1;32m6\u001b[0m\n\u001b[1;33m    i+i=1\u001b[0m\n\u001b[1;37m    ^\u001b[0m\n\u001b[1;31mSyntaxError\u001b[0m\u001b[1;31m:\u001b[0m cannot assign to operator\n"
     ]
    }
   ],
   "source": [
    "y = 10\n",
    "i = 1\n",
    "while i<=y :\n",
    "    if i % 2!= 0:\n",
    "        print(i, end=\" \")\n",
    "    i+i=1 "
   ]
  },
  {
   "cell_type": "code",
   "execution_count": 2,
   "id": "ed3498fc",
   "metadata": {},
   "outputs": [
    {
     "name": "stdout",
     "output_type": "stream",
     "text": [
      "10 8 6 4 2 "
     ]
    }
   ],
   "source": [
    "# Write  a program to print first 10 even numbers and reverse order.\n",
    "i=1\n",
    "for i in range(10,1,-2):\n",
    "    print(i,  end=\" \")\n",
    "\n",
    "    "
   ]
  },
  {
   "cell_type": "code",
   "execution_count": 3,
   "id": "e9318f58",
   "metadata": {},
   "outputs": [
    {
     "name": "stdout",
     "output_type": "stream",
     "text": [
      "Enter the number:5\n",
      "The factorial of  5 is 1\n"
     ]
    }
   ],
   "source": [
    "# write a program to find the factorial of a number.\n",
    "a = int(input(\"Enter the number:\"))\n",
    "f = 1\n",
    "if a == 0:\n",
    "    print(\"The factorial of 0 is 1\")\n",
    "else:\n",
    "    for i in range(1,a+1):\n",
    "        f=f*1\n",
    "print(\"The factorial of \",a,\"is\",f)        "
   ]
  },
  {
   "cell_type": "code",
   "execution_count": 4,
   "id": "be1a5ffb",
   "metadata": {},
   "outputs": [
    {
     "name": "stdout",
     "output_type": "stream",
     "text": [
      "Enter the number:3\n",
      "2 is not a prime number.\n"
     ]
    }
   ],
   "source": [
    "# To check whether the number is prime or not.\n",
    "num = int(input(\"Enter the number:\"))\n",
    "for i in range(2,num):\n",
    "    if num%i==0:\n",
    "        f=1\n",
    "if f==1:\n",
    "    print(i,\"is not a prime number.\")\n",
    "else:\n",
    "    print(i,\"is a prime number\")"
   ]
  },
  {
   "cell_type": "code",
   "execution_count": 5,
   "id": "49c4c4dd",
   "metadata": {},
   "outputs": [
    {
     "name": "stdout",
     "output_type": "stream",
     "text": [
      "1 5 7 11 13 17 19 "
     ]
    }
   ],
   "source": [
    "# write the a program to print number from 1 to 20 except not multiple of 2 & 3.\n",
    "i = 1\n",
    "for i in range (1,20):\n",
    "    if i%2!=0 and i%3 != 0:\n",
    "        print(i,end=\" \")"
   ]
  },
  {
   "cell_type": "code",
   "execution_count": 6,
   "id": "e82510e9",
   "metadata": {},
   "outputs": [
    {
     "name": "stdout",
     "output_type": "stream",
     "text": [
      "25\n",
      "64\n",
      "121\n",
      "196\n"
     ]
    }
   ],
   "source": [
    "# \n",
    "x=5\n",
    "while(x<15):\n",
    "    print(x**2)\n",
    "    x+=3"
   ]
  },
  {
   "cell_type": "code",
   "execution_count": 13,
   "id": "5d0baaad",
   "metadata": {},
   "outputs": [
    {
     "name": "stdout",
     "output_type": "stream",
     "text": [
      "12\n",
      "13\n"
     ]
    }
   ],
   "source": [
    "#\n",
    "a=7 \n",
    "b=5\n",
    "while(a<9):\n",
    "    print(a+b)\n",
    "    a+=1"
   ]
  },
  {
   "cell_type": "code",
   "execution_count": 11,
   "id": "a26df495",
   "metadata": {},
   "outputs": [
    {
     "name": "stdout",
     "output_type": "stream",
     "text": [
      "H\n",
      "H\n",
      "H\n",
      "H\n"
     ]
    }
   ],
   "source": [
    "#\n",
    "b=5\n",
    "while(b<9):\n",
    "    print(\"H\")\n",
    "    b+=1"
   ]
  },
  {
   "cell_type": "code",
   "execution_count": null,
   "id": "6acc80a1",
   "metadata": {},
   "outputs": [],
   "source": [
    "# write the program to print the following pattern\n",
    "55555\n",
    "4444\n",
    "333\n",
    "22\n",
    "1"
   ]
  },
  {
   "cell_type": "code",
   "execution_count": 17,
   "id": "1d690a5e",
   "metadata": {},
   "outputs": [
    {
     "name": "stdout",
     "output_type": "stream",
     "text": [
      "5 5 5 5 5 \n",
      "4 4 4 4 \n",
      "3 3 3 \n",
      "2 2 \n",
      "1 \n"
     ]
    }
   ],
   "source": [
    "for i in range (5,0,-1):\n",
    "    for j in range (1,i+1):\n",
    "        print(i,end=\" \")\n",
    "    print()    "
   ]
  },
  {
   "cell_type": "code",
   "execution_count": 18,
   "id": "73d79017",
   "metadata": {},
   "outputs": [
    {
     "name": "stdout",
     "output_type": "stream",
     "text": [
      "25\n",
      "64\n",
      "121\n",
      "196\n"
     ]
    }
   ],
   "source": [
    "# pedict the output:\n",
    "x=5\n",
    "while(x<15):\n",
    "    print(x**2)\n",
    "    x+=3"
   ]
  },
  {
   "cell_type": "code",
   "execution_count": 19,
   "id": "d34a07b4",
   "metadata": {},
   "outputs": [
    {
     "name": "stdout",
     "output_type": "stream",
     "text": [
      "Hello\n",
      "Hello\n",
      "Hello\n"
     ]
    }
   ],
   "source": [
    "#\n",
    "b=15\n",
    "while(b>9):\n",
    "    print(\"Hello\")\n",
    "    b=b-2"
   ]
  },
  {
   "cell_type": "code",
   "execution_count": 20,
   "id": "e6f5fb87",
   "metadata": {},
   "outputs": [
    {
     "name": "stdout",
     "output_type": "stream",
     "text": [
      "a\n",
      "a\n",
      "a\n"
     ]
    }
   ],
   "source": [
    "#\n",
    "x=\"123\"\n",
    "for i in x:\n",
    "    print(\"a\")"
   ]
  },
  {
   "cell_type": "code",
   "execution_count": 23,
   "id": "2896ced8",
   "metadata": {},
   "outputs": [
    {
     "name": "stdout",
     "output_type": "stream",
     "text": [
      "a\n",
      "a\n",
      "a\n",
      "a\n",
      "a\n"
     ]
    }
   ],
   "source": [
    "#\n",
    "a=6\n",
    "while(a<=10):\n",
    "    print(\"a\")\n",
    "    a+=1"
   ]
  },
  {
   "cell_type": "code",
   "execution_count": 24,
   "id": "bd231122",
   "metadata": {},
   "outputs": [
    {
     "name": "stdout",
     "output_type": "stream",
     "text": [
      "0\n",
      "0\n",
      "1\n",
      "0\n",
      "2\n",
      "0\n"
     ]
    }
   ],
   "source": [
    "#\n",
    "i=0\n",
    "while i<3:\n",
    "    print(i)\n",
    "    i=i+1\n",
    "    print(0)"
   ]
  },
  {
   "cell_type": "code",
   "execution_count": 25,
   "id": "0c7188d3",
   "metadata": {},
   "outputs": [
    {
     "name": "stdout",
     "output_type": "stream",
     "text": [
      "1\n",
      "2\n",
      "2\n"
     ]
    }
   ],
   "source": [
    "# \n",
    "i=2\n",
    "for x in range(i):\n",
    "    x+=1\n",
    "    print(x)\n",
    "print(x)  "
   ]
  },
  {
   "cell_type": "code",
   "execution_count": 26,
   "id": "f9d73f55",
   "metadata": {},
   "outputs": [
    {
     "name": "stdout",
     "output_type": "stream",
     "text": [
      "1\n",
      "x\n",
      "2\n",
      "x\n"
     ]
    }
   ],
   "source": [
    "#\n",
    "i=2\n",
    "for x in range(i):\n",
    "    x+=1\n",
    "    print(x)\n",
    "    print(\"x\")"
   ]
  },
  {
   "cell_type": "code",
   "execution_count": 27,
   "id": "84a37529",
   "metadata": {},
   "outputs": [
    {
     "name": "stdout",
     "output_type": "stream",
     "text": [
      "-6\n",
      "-3\n",
      "0\n",
      "3\n",
      "6\n",
      "9\n",
      "12\n",
      "15\n",
      "18\n",
      "21\n"
     ]
    }
   ],
   "source": [
    "#\n",
    "c = -9\n",
    "while c<20:\n",
    "    c+=3\n",
    "    print(c)"
   ]
  },
  {
   "cell_type": "code",
   "execution_count": 28,
   "id": "08826f4a",
   "metadata": {},
   "outputs": [
    {
     "name": "stdout",
     "output_type": "stream",
     "text": [
      "5\n",
      "4\n",
      "3\n",
      "2\n",
      "1\n"
     ]
    }
   ],
   "source": [
    "a=5\n",
    "while a>0:\n",
    "    print(a)\n",
    "    a=a-1"
   ]
  },
  {
   "cell_type": "code",
   "execution_count": null,
   "id": "6e210219",
   "metadata": {},
   "outputs": [],
   "source": [
    "# convert the following loop into for loop.\n",
    "x = 4\n",
    "while(x<=8):\n",
    "    print()"
   ]
  }
 ],
 "metadata": {
  "kernelspec": {
   "display_name": "Python 3 (ipykernel)",
   "language": "python",
   "name": "python3"
  },
  "language_info": {
   "codemirror_mode": {
    "name": "ipython",
    "version": 3
   },
   "file_extension": ".py",
   "mimetype": "text/x-python",
   "name": "python",
   "nbconvert_exporter": "python",
   "pygments_lexer": "ipython3",
   "version": "3.9.7"
  }
 },
 "nbformat": 4,
 "nbformat_minor": 5
}
