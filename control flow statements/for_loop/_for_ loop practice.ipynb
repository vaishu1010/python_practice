{
 "cells": [
  {
   "cell_type": "code",
   "execution_count": 2,
   "id": "c908eeda",
   "metadata": {},
   "outputs": [
    {
     "name": "stdout",
     "output_type": "stream",
     "text": [
      "1\n",
      "2\n",
      "3\n",
      "4\n",
      "5\n",
      "6\n",
      "7\n",
      "8\n",
      "9\n",
      "10\n"
     ]
    }
   ],
   "source": [
    "# for loop:\n",
    "for  i  in range(1,11):\n",
    "      print(i)"
   ]
  },
  {
   "cell_type": "code",
   "execution_count": 3,
   "id": "aef06817",
   "metadata": {},
   "outputs": [
    {
     "name": "stdout",
     "output_type": "stream",
     "text": [
      "1 2 3 4 5 6 7 8 9 10 "
     ]
    }
   ],
   "source": [
    "for i in range (1,11):\n",
    "    print(i,end=\" \")"
   ]
  },
  {
   "cell_type": "code",
   "execution_count": 4,
   "id": "80ba6e8d",
   "metadata": {},
   "outputs": [
    {
     "name": "stdout",
     "output_type": "stream",
     "text": [
      "3 7 11 15 19 23 27 "
     ]
    }
   ],
   "source": [
    "for x in range (3,30,4):\n",
    "    print(x,end=\" \")"
   ]
  },
  {
   "cell_type": "code",
   "execution_count": 5,
   "id": "e11a9ec2",
   "metadata": {},
   "outputs": [
    {
     "name": "stdout",
     "output_type": "stream",
     "text": [
      "4\n",
      "9\n",
      "14\n",
      "19\n",
      "24\n",
      "29\n",
      "34\n",
      "39\n"
     ]
    }
   ],
   "source": [
    "for a in range (4,40,5):\n",
    "    print(a)"
   ]
  },
  {
   "cell_type": "code",
   "execution_count": 3,
   "id": "0a1e2474",
   "metadata": {},
   "outputs": [
    {
     "name": "stdout",
     "output_type": "stream",
     "text": [
      "5\n",
      "7\n",
      "9\n",
      "11\n",
      "13\n",
      "15\n",
      "17\n",
      "19\n"
     ]
    }
   ],
   "source": [
    "for i in range ( 5,20,2):\n",
    "    print(i)"
   ]
  },
  {
   "cell_type": "code",
   "execution_count": 4,
   "id": "6b97fa56",
   "metadata": {},
   "outputs": [
    {
     "name": "stdout",
     "output_type": "stream",
     "text": [
      "apple\n",
      "cherry\n",
      "banana\n",
      "kiwi\n"
     ]
    }
   ],
   "source": [
    "fruits =[\"apple\",\"cherry\", \"banana\", \"kiwi\"]\n",
    "for i in fruits:\n",
    "    print(i)"
   ]
  },
  {
   "cell_type": "code",
   "execution_count": 15,
   "id": "916d8926",
   "metadata": {},
   "outputs": [
    {
     "name": "stdout",
     "output_type": "stream",
     "text": [
      "tasty apple\n",
      "tasty banana\n",
      "tasty kiwi\n",
      "tasty cherry\n",
      "juicy apple\n",
      "juicy banana\n",
      "juicy kiwi\n",
      "juicy cherry\n"
     ]
    }
   ],
   "source": [
    "# nested for loop:\n",
    "adj = [\"tasty\",\"juicy\"]\n",
    "fruits = [\"apple\",\"banana\", \"kiwi\", \"cherry\"]                                                        \n",
    "for x in adj :\n",
    "     for y in fruits :\n",
    "            print(x , y)"
   ]
  },
  {
   "cell_type": "code",
   "execution_count": 16,
   "id": "c1d85fa6",
   "metadata": {},
   "outputs": [
    {
     "name": "stdout",
     "output_type": "stream",
     "text": [
      "1\n",
      "2\n",
      "3\n",
      "4\n",
      "5\n",
      "6\n"
     ]
    }
   ],
   "source": [
    "# while loop:\n",
    "i = 1\n",
    "while i <= 6:\n",
    "    print(i)\n",
    "    i+=1"
   ]
  },
  {
   "cell_type": "code",
   "execution_count": 24,
   "id": "610e5758",
   "metadata": {},
   "outputs": [
    {
     "name": "stdout",
     "output_type": "stream",
     "text": [
      "2\n",
      "3\n",
      "4\n",
      "5\n",
      "6\n"
     ]
    }
   ],
   "source": [
    "i=2\n",
    "while i<=6:\n",
    "    print(i)\n",
    "    i+=1\n"
   ]
  },
  {
   "cell_type": "code",
   "execution_count": 27,
   "id": "71be9717",
   "metadata": {},
   "outputs": [
    {
     "name": "stdout",
     "output_type": "stream",
     "text": [
      "sum of first ten number is: 55\n"
     ]
    }
   ],
   "source": [
    "# Example to calculate the sum of first ten numbers\n",
    "sum = 0\n",
    "i = 1\n",
    "while i<=10:\n",
    "    sum = sum + i\n",
    "    i = i + 1\n",
    "print(\"sum of first ten number is:\",sum)"
   ]
  },
  {
   "cell_type": "code",
   "execution_count": 28,
   "id": "fc6d5d1f",
   "metadata": {},
   "outputs": [
    {
     "name": "stdout",
     "output_type": "stream",
     "text": [
      "sum of first ten number is : 224\n"
     ]
    }
   ],
   "source": [
    "sum = 15\n",
    "n = 2 \n",
    "while n<=20:\n",
    "    sum = sum + n\n",
    "    n = n + 1\n",
    "print(\"sum of first ten number is :\",sum)    \n",
    "    "
   ]
  },
  {
   "cell_type": "code",
   "execution_count": null,
   "id": "55673b26",
   "metadata": {},
   "outputs": [],
   "source": []
  }
 ],
 "metadata": {
  "kernelspec": {
   "display_name": "Python 3 (ipykernel)",
   "language": "python",
   "name": "python3"
  },
  "language_info": {
   "codemirror_mode": {
    "name": "ipython",
    "version": 3
   },
   "file_extension": ".py",
   "mimetype": "text/x-python",
   "name": "python",
   "nbconvert_exporter": "python",
   "pygments_lexer": "ipython3",
   "version": "3.9.7"
  }
 },
 "nbformat": 4,
 "nbformat_minor": 5
}
