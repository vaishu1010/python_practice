{
 "cells": [
  {
   "cell_type": "code",
   "execution_count": 7,
   "id": "7eed150a",
   "metadata": {},
   "outputs": [
    {
     "name": "stdout",
     "output_type": "stream",
     "text": [
      "2 4 6 8 10 "
     ]
    }
   ],
   "source": [
    "# Write  a program to print first 10 even numbers.\n",
    "x = 10\n",
    "i = 1\n",
    "while i<=x :\n",
    "    if i % 2 == 0:\n",
    "    \n",
    "     print(i, end=\" \")\n",
    "    i=i+1"
   ]
  },
  {
   "cell_type": "code",
   "execution_count": 4,
   "id": "6521b64f",
   "metadata": {},
   "outputs": [
    {
     "ename": "SyntaxError",
     "evalue": "cannot assign to operator (Temp/ipykernel_7636/1026858114.py, line 6)",
     "output_type": "error",
     "traceback": [
      "\u001b[1;36m  File \u001b[1;32m\"C:\\Users\\HP\\AppData\\Local\\Temp/ipykernel_7636/1026858114.py\"\u001b[1;36m, line \u001b[1;32m6\u001b[0m\n\u001b[1;33m    i+i=1\u001b[0m\n\u001b[1;37m    ^\u001b[0m\n\u001b[1;31mSyntaxError\u001b[0m\u001b[1;31m:\u001b[0m cannot assign to operator\n"
     ]
    }
   ],
   "source": [
    "y = 10\n",
    "i = 1\n",
    "while i<=y :\n",
    "    if i % 2!= 0:\n",
    "        print(i, end=\" \")\n",
    "    i+i=1 "
   ]
  },
  {
   "cell_type": "code",
   "execution_count": 3,
   "id": "ed3498fc",
   "metadata": {},
   "outputs": [
    {
     "name": "stdout",
     "output_type": "stream",
     "text": [
      "10 8 6 4 2 "
     ]
    }
   ],
   "source": [
    "# Write  a program to print first 10 even numbers and reverse order.\n",
    "i=1\n",
    "for i in range(10,1,-2):\n",
    "    print(i,  end=\" \")\n",
    "\n",
    "    "
   ]
  },
  {
   "cell_type": "code",
   "execution_count": null,
   "id": "e9318f58",
   "metadata": {},
   "outputs": [],
   "source": [
    "# write a program to find the factorial of a number.\n",
    "a = int(input)"
   ]
  },
  {
   "cell_type": "code",
   "execution_count": null,
   "id": "be1a5ffb",
   "metadata": {},
   "outputs": [],
   "source": []
  }
 ],
 "metadata": {
  "kernelspec": {
   "display_name": "Python 3 (ipykernel)",
   "language": "python",
   "name": "python3"
  },
  "language_info": {
   "codemirror_mode": {
    "name": "ipython",
    "version": 3
   },
   "file_extension": ".py",
   "mimetype": "text/x-python",
   "name": "python",
   "nbconvert_exporter": "python",
   "pygments_lexer": "ipython3",
   "version": "3.9.7"
  }
 },
 "nbformat": 4,
 "nbformat_minor": 5
}
