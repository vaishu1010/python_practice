{
 "cells": [
  {
   "cell_type": "code",
   "execution_count": null,
   "id": "f638cbb3",
   "metadata": {},
   "outputs": [],
   "source": [
    "# Accept the age, sex('M'or'F')number of days and display the wages accordingly\n",
    " Age sex    wage/day\n",
    ">=18 and<30  M   700\n",
    "   F       750\n",
    "    \n",
    "    \n",
    ">=30 and<=40  M   800\n",
    "F       850\n",
    " \n",
    "python if else\n",
    "if age does not fall in any range then\n",
    "display the following message:\n",
    "\"Enter appropriate age\""
   ]
  },
  {
   "cell_type": "code",
   "execution_count": 2,
   "id": "b92de07a",
   "metadata": {},
   "outputs": [
    {
     "name": "stdout",
     "output_type": "stream",
     "text": [
      "Enter the age:40\n",
      "Enter the sex('M'/'F'):f\n",
      "The wages for old female are:  34000\n"
     ]
    }
   ],
   "source": [
    "age = int(input(\"Enter the age:\"))\n",
    "s = input(\"Enter the sex('M'/'F'):\")\n",
    "if age>=18 and age<30 and s.upper()=='M':\n",
    "    print(\"The wages for male are: \" ,age*700)\n",
    "elif age >=18 and age<30 and s.upper()=='F':\n",
    "    print(\"The wages for female are :\",age*750)\n",
    "elif age>=30 and age<=40 and s.upper()=='M':\n",
    "    print(\"The wages for old male are :\", age*800)\n",
    "elif age>=30 and age<=40 and s.upper()=='F':\n",
    "    print(\"The wages for old female are: \",age*850)\n",
    "else:\n",
    "    print(\"Enter appropriate age\")"
   ]
  },
  {
   "cell_type": "code",
   "execution_count": null,
   "id": "05fa870d",
   "metadata": {},
   "outputs": [],
   "source": []
  }
 ],
 "metadata": {
  "kernelspec": {
   "display_name": "Python 3 (ipykernel)",
   "language": "python",
   "name": "python3"
  },
  "language_info": {
   "codemirror_mode": {
    "name": "ipython",
    "version": 3
   },
   "file_extension": ".py",
   "mimetype": "text/x-python",
   "name": "python",
   "nbconvert_exporter": "python",
   "pygments_lexer": "ipython3",
   "version": "3.9.7"
  }
 },
 "nbformat": 4,
 "nbformat_minor": 5
}
