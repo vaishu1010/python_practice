{
 "cells": [
  {
   "cell_type": "code",
   "execution_count": 1,
   "id": "26ac01b8",
   "metadata": {},
   "outputs": [
    {
     "name": "stdout",
     "output_type": "stream",
     "text": [
      "enter the keys:2\n",
      "The given key is present in dictinory \n"
     ]
    }
   ],
   "source": [
    "#Check whether the given key is present in dictionary or not.\n",
    "fruits = {1:'mango',2:'apple',3:'cherry',4:'kiwi' }\n",
    "key = int(input(\"enter the keys:\"))\n",
    "if key in fruits:\n",
    "    print(\"The given key is present in dictinory \")\n",
    "else:\n",
    "    print(\"The given key is not present in dictinory\")"
   ]
  },
  {
   "cell_type": "code",
   "execution_count": null,
   "id": "d4c80976",
   "metadata": {},
   "outputs": [],
   "source": []
  }
 ],
 "metadata": {
  "kernelspec": {
   "display_name": "Python 3 (ipykernel)",
   "language": "python",
   "name": "python3"
  },
  "language_info": {
   "codemirror_mode": {
    "name": "ipython",
    "version": 3
   },
   "file_extension": ".py",
   "mimetype": "text/x-python",
   "name": "python",
   "nbconvert_exporter": "python",
   "pygments_lexer": "ipython3",
   "version": "3.9.7"
  }
 },
 "nbformat": 4,
 "nbformat_minor": 5
}
