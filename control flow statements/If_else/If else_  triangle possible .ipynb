{
 "cells": [
  {
   "cell_type": "code",
   "execution_count": 1,
   "id": "4bace0a1",
   "metadata": {},
   "outputs": [
    {
     "name": "stdout",
     "output_type": "stream",
     "text": [
      "Enter the first side of triangle:3\n",
      "Enter the second side of triangle:3\n",
      "Enter the third side of triangle:4\n",
      "It is a traingle \n"
     ]
    }
   ],
   "source": [
    "T1 = float(input(\"Enter the first side of triangle:\"))\n",
    "T2 = float(input(\"Enter the second side of triangle:\"))\n",
    "T3 = float(input(\"Enter the third side of triangle:\"))\n",
    "if T1==T2 and T2!=T3 and T1!=T3:\n",
    "    print(\"It is a traingle \")\n",
    "else:\n",
    "    print(\"It is not a triangle\")"
   ]
  },
  {
   "cell_type": "code",
   "execution_count": null,
   "id": "2a5fe39a",
   "metadata": {},
   "outputs": [],
   "source": []
  }
 ],
 "metadata": {
  "kernelspec": {
   "display_name": "Python 3 (ipykernel)",
   "language": "python",
   "name": "python3"
  },
  "language_info": {
   "codemirror_mode": {
    "name": "ipython",
    "version": 3
   },
   "file_extension": ".py",
   "mimetype": "text/x-python",
   "name": "python",
   "nbconvert_exporter": "python",
   "pygments_lexer": "ipython3",
   "version": "3.9.7"
  }
 },
 "nbformat": 4,
 "nbformat_minor": 5
}
