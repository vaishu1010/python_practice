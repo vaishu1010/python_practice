{
 "cells": [
  {
   "cell_type": "code",
   "execution_count": 2,
   "id": "342fd7d2",
   "metadata": {},
   "outputs": [
    {
     "name": "stdout",
     "output_type": "stream",
     "text": [
      "Enter the number:40\n",
      "The number entered in three digit\n"
     ]
    }
   ],
   "source": [
    "# Write a program to check whether the number entered is three digit or not.\n",
    "d = int(input(\"Enter the number:\"))\n",
    "if d<100 and d>10:\n",
    "    print(\"The number entered in three digit\")\n",
    "elif d<1000 and d>100:\n",
    "    print(\"The number entered in two digit\")\n",
    "else:\n",
    "    print(\"The number entered in one digit\")"
   ]
  },
  {
   "cell_type": "code",
   "execution_count": null,
   "id": "6aaf994e",
   "metadata": {},
   "outputs": [],
   "source": []
  }
 ],
 "metadata": {
  "kernelspec": {
   "display_name": "Python 3 (ipykernel)",
   "language": "python",
   "name": "python3"
  },
  "language_info": {
   "codemirror_mode": {
    "name": "ipython",
    "version": 3
   },
   "file_extension": ".py",
   "mimetype": "text/x-python",
   "name": "python",
   "nbconvert_exporter": "python",
   "pygments_lexer": "ipython3",
   "version": "3.9.7"
  }
 },
 "nbformat": 4,
 "nbformat_minor": 5
}
