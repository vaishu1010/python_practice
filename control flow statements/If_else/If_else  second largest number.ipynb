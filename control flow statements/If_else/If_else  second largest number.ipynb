{
 "cells": [
  {
   "cell_type": "code",
   "execution_count": 3,
   "id": "1d66a110",
   "metadata": {},
   "outputs": [
    {
     "name": "stdout",
     "output_type": "stream",
     "text": [
      "Enter the 1st value :90\n",
      "Enter the 2nd value :50\n",
      "Enter the 3rd value :40\n",
      "n2 is a second largest number\n"
     ]
    }
   ],
   "source": [
    "#Accept the three largest number form the user and display the second largest number.\n",
    "\n",
    "n1 = float(input(\"Enter the 1st value :\"))\n",
    "n2 = float (input(\"Enter the 2nd value :\"))\n",
    "n3 = float(input(\"Enter the 3rd value :\"))\n",
    "if n1>n2>n3 or n3>n2>n1:#         n1>n2>n3 or n3>n2>n1\n",
    "    print(\"n2 is a second largest number\")\n",
    "elif n2>n1>n3 or n3>n1>n2:#       n2>n1>n3 or n3>n1>n2 \n",
    "    print(\"n1 is a second largest number\")\n",
    "elif n2>n3>n1 or n1>n3>n2:#       n2>n3n1 or n1>n3>n2      \n",
    "    print(\"n3 is a second largest number\")\n",
    "    "
   ]
  },
  {
   "cell_type": "code",
   "execution_count": null,
   "id": "5c121e33",
   "metadata": {},
   "outputs": [],
   "source": []
  },
  {
   "cell_type": "code",
   "execution_count": null,
   "id": "5775dc0e",
   "metadata": {},
   "outputs": [],
   "source": []
  }
 ],
 "metadata": {
  "kernelspec": {
   "display_name": "Python 3 (ipykernel)",
   "language": "python",
   "name": "python3"
  },
  "language_info": {
   "codemirror_mode": {
    "name": "ipython",
    "version": 3
   },
   "file_extension": ".py",
   "mimetype": "text/x-python",
   "name": "python",
   "nbconvert_exporter": "python",
   "pygments_lexer": "ipython3",
   "version": "3.9.7"
  }
 },
 "nbformat": 4,
 "nbformat_minor": 5
}
