{
 "cells": [
  {
   "cell_type": "code",
   "execution_count": null,
   "id": "8ba10261",
   "metadata": {},
   "outputs": [],
   "source": [
    "#Accept the number of the day from the user and calculate the charge for libaray according to following:\n",
    "Till five days: Rs 2/day.\n",
    "six to ten days : rs 3/day.\n",
    "11 to 15 days: Rs 4/day.\n",
    "After 15 days : Rs 5/day."
   ]
  },
  {
   "cell_type": "code",
   "execution_count": 6,
   "id": "314abd9a",
   "metadata": {},
   "outputs": [
    {
     "name": "stdout",
     "output_type": "stream",
     "text": [
      "Enter the number of days:7\n",
      "The charge for library is rs 3 \n"
     ]
    }
   ],
   "source": [
    "a=int(input(\"Enter the number of days:\"))\n",
    "if a<5 :\n",
    "    print(\"The charge for library is rs 2  \")\n",
    "elif a>6 and a<10:\n",
    "    print(\"The charge for library is rs 3 \")\n",
    "elif a>11 and a<15:\n",
    "    print(\"The charge for library is rs 4 \")\n",
    "elif a>15 :   \n",
    "    print(\"The charge for library is rs 5 \")\n",
    "else:\n",
    "    print(\"The invalid charge for library\")\n",
    "    "
   ]
  },
  {
   "cell_type": "code",
   "execution_count": null,
   "id": "91bf4736",
   "metadata": {},
   "outputs": [],
   "source": []
  }
 ],
 "metadata": {
  "kernelspec": {
   "display_name": "Python 3 (ipykernel)",
   "language": "python",
   "name": "python3"
  },
  "language_info": {
   "codemirror_mode": {
    "name": "ipython",
    "version": 3
   },
   "file_extension": ".py",
   "mimetype": "text/x-python",
   "name": "python",
   "nbconvert_exporter": "python",
   "pygments_lexer": "ipython3",
   "version": "3.9.7"
  }
 },
 "nbformat": 4,
 "nbformat_minor": 5
}
