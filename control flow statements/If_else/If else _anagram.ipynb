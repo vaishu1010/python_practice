{
 "cells": [
  {
   "cell_type": "code",
   "execution_count": 4,
   "id": "eb2a2849",
   "metadata": {},
   "outputs": [
    {
     "name": "stdout",
     "output_type": "stream",
     "text": [
      "Enter the name:case\n",
      "Enter the second name:race\n",
      "['a', 'c', 'e', 's']\n",
      "['a', 'c', 'e', 'r']\n",
      "The string is not anagram\n"
     ]
    }
   ],
   "source": [
    "# check if two strings are anagram or not.(care=race\n",
    "a = input(\"Enter the name:\")\n",
    "b = input(\"Enter the second name:\")\n",
    "c = a.casefold()\n",
    "d = b.casefold()\n",
    "e = sorted(c)\n",
    "f = sorted(b)\n",
    "print(e)\n",
    "print(f)\n",
    "if e == f :\n",
    "    print(\"The string is anagram\")\n",
    "else:\n",
    "    print(\"The string is not anagram\")"
   ]
  },
  {
   "cell_type": "code",
   "execution_count": null,
   "id": "8c295c79",
   "metadata": {},
   "outputs": [],
   "source": []
  }
 ],
 "metadata": {
  "kernelspec": {
   "display_name": "Python 3 (ipykernel)",
   "language": "python",
   "name": "python3"
  },
  "language_info": {
   "codemirror_mode": {
    "name": "ipython",
    "version": 3
   },
   "file_extension": ".py",
   "mimetype": "text/x-python",
   "name": "python",
   "nbconvert_exporter": "python",
   "pygments_lexer": "ipython3",
   "version": "3.9.7"
  }
 },
 "nbformat": 4,
 "nbformat_minor": 5
}
