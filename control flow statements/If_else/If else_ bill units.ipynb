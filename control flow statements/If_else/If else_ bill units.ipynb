{
 "cells": [
  {
   "cell_type": "code",
   "execution_count": null,
   "id": "91d30f35",
   "metadata": {},
   "outputs": [],
   "source": [
    "# Accept the electric units from user and calculate the bill according to the following rates.\n",
    "first 100 units : free\n",
    "next 200 units  : Rs 2 per day.\n",
    "above 300 units : Rs 5 per day.\n",
    "if number of units is 500 then total bill = 0+400+1000=1400"
   ]
  },
  {
   "cell_type": "code",
   "execution_count": 3,
   "id": "617c3acd",
   "metadata": {},
   "outputs": [
    {
     "name": "stdout",
     "output_type": "stream",
     "text": [
      "Enter the units:600\n",
      "The amount of total bill will be 1900\n"
     ]
    }
   ],
   "source": [
    "a= int(input(\"Enter the units:\"))\n",
    "if a<=100:\n",
    "    print(\"The amount of bill is free\")\n",
    "elif a>200 and a<=300:\n",
    "    b=(a-200)*2\n",
    "    print(\"The amount of total bill will be\",b)\n",
    "elif a>300:\n",
    "    c=400+(a-300)*5\n",
    "    print(\"The amount of total bill will be\",c)\n",
    "else:\n",
    "    print(\"invalid number\")\n",
    "    "
   ]
  },
  {
   "cell_type": "code",
   "execution_count": null,
   "id": "cb9c2e95",
   "metadata": {},
   "outputs": [],
   "source": []
  }
 ],
 "metadata": {
  "kernelspec": {
   "display_name": "Python 3 (ipykernel)",
   "language": "python",
   "name": "python3"
  },
  "language_info": {
   "codemirror_mode": {
    "name": "ipython",
    "version": 3
   },
   "file_extension": ".py",
   "mimetype": "text/x-python",
   "name": "python",
   "nbconvert_exporter": "python",
   "pygments_lexer": "ipython3",
   "version": "3.9.7"
  }
 },
 "nbformat": 4,
 "nbformat_minor": 5
}
