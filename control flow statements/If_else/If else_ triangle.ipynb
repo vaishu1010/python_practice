{
 "cells": [
  {
   "cell_type": "code",
   "execution_count": 1,
   "id": "bb58c96b",
   "metadata": {},
   "outputs": [
    {
     "name": "stdout",
     "output_type": "stream",
     "text": [
      "Enter the 1st value:4\n",
      "Enter the 2nd value:4\n",
      "Enter the 3rd value:6\n",
      "It is a scalene triangle.\n"
     ]
    }
   ],
   "source": [
    "#Accept three sides of a trianglr and check whether it is an equilateral, isosceles or scalene triengle.\n",
    "s1 = float(input(\"Enter the 1st value:\"))\n",
    "s2 = float(input(\"Enter the 2nd value:\"))\n",
    "s3 = float(input(\"Enter the 3rd value:\"))\n",
    "if  s1==s2 and  s2==s3 and s1==s3:\n",
    "    print(\"It is a equilateral triangle.\")\n",
    "elif s1!=s2 and s2!=s3 and s1!=s3:\n",
    "    print(\"It is a isosceles triangle.\")\n",
    "elif s1==s2 or s2==s3 or s1==s3:\n",
    "    print(\"It is a scalene triangle.\")\n",
    "else:\n",
    "    print(\"It is not a triangle.\")"
   ]
  },
  {
   "cell_type": "code",
   "execution_count": null,
   "id": "1684f11e",
   "metadata": {},
   "outputs": [],
   "source": []
  }
 ],
 "metadata": {
  "kernelspec": {
   "display_name": "Python 3 (ipykernel)",
   "language": "python",
   "name": "python3"
  },
  "language_info": {
   "codemirror_mode": {
    "name": "ipython",
    "version": 3
   },
   "file_extension": ".py",
   "mimetype": "text/x-python",
   "name": "python",
   "nbconvert_exporter": "python",
   "pygments_lexer": "ipython3",
   "version": "3.9.7"
  }
 },
 "nbformat": 4,
 "nbformat_minor": 5
}
