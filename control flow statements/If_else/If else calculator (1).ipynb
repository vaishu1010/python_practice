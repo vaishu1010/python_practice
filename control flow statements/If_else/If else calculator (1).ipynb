{
 "cells": [
  {
   "cell_type": "code",
   "execution_count": null,
   "id": "b7a9f0fa",
   "metadata": {},
   "outputs": [],
   "source": [
    "# Make a simple calculator using input "
   ]
  },
  {
   "cell_type": "code",
   "execution_count": 3,
   "id": "dbd126f5",
   "metadata": {},
   "outputs": [
    {
     "name": "stdout",
     "output_type": "stream",
     "text": [
      "Enter the first value:5\n",
      "Enter the second value:7\n",
      "Enter the operator:*\n",
      "multiplication of value is : 35.0\n"
     ]
    }
   ],
   "source": [
    "a = float(input(\"Enter the first value:\"))\n",
    "b = float(input(\"Enter the second value:\"))\n",
    "c = input(\"Enter the operator:\")\n",
    "if c == '+':\n",
    "    print(\"Addition of value is:\",a+b)\n",
    "elif c == '-':\n",
    "    print(\"subtraction of value is:\",a-b)\n",
    "elif c == '*':\n",
    "    print(\"multiplication of value is :\",a*b)\n",
    "elif c == '/':\n",
    "    print(\"division of value is:\",a/b)\n",
    "else:\n",
    "    print(\"syntax invalid\")"
   ]
  },
  {
   "cell_type": "code",
   "execution_count": null,
   "id": "4b334c5d",
   "metadata": {},
   "outputs": [],
   "source": []
  }
 ],
 "metadata": {
  "kernelspec": {
   "display_name": "Python 3 (ipykernel)",
   "language": "python",
   "name": "python3"
  },
  "language_info": {
   "codemirror_mode": {
    "name": "ipython",
    "version": 3
   },
   "file_extension": ".py",
   "mimetype": "text/x-python",
   "name": "python",
   "nbconvert_exporter": "python",
   "pygments_lexer": "ipython3",
   "version": "3.9.7"
  }
 },
 "nbformat": 4,
 "nbformat_minor": 5
}
