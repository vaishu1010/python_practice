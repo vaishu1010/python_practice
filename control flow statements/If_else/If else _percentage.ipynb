{
 "cells": [
  {
   "cell_type": "code",
   "execution_count": 15,
   "id": "edc78348",
   "metadata": {},
   "outputs": [
    {
     "name": "stdout",
     "output_type": "stream",
     "text": [
      "Enter the percentage of user:40\n",
      "The student grade is 'C' \n"
     ]
    }
   ],
   "source": [
    "a = int(input(\"Enter the percentage of user:\"))\n",
    "if a<25 :\n",
    "    print(\"The student grade is 'D' \")\n",
    "elif a>25 and a<45:\n",
    "    print(\"The student grade is 'C' \")\n",
    "elif a>45 and a<50:\n",
    "    print(\"The student grade is 'B' \")\n",
    "elif a>50 and a<60:\n",
    "    print(\"The student grade is '+B' \")\n",
    "elif a>60 and a<80:\n",
    "    print(\"The student grade is 'A' \")\n",
    "elif a>80:\n",
    "    print(\"The student grade is '+A' \")\n",
    "else:\n",
    "    print('invalid details entered')"
   ]
  },
  {
   "cell_type": "code",
   "execution_count": null,
   "id": "d0042557",
   "metadata": {},
   "outputs": [],
   "source": []
  }
 ],
 "metadata": {
  "kernelspec": {
   "display_name": "Python 3 (ipykernel)",
   "language": "python",
   "name": "python3"
  },
  "language_info": {
   "codemirror_mode": {
    "name": "ipython",
    "version": 3
   },
   "file_extension": ".py",
   "mimetype": "text/x-python",
   "name": "python",
   "nbconvert_exporter": "python",
   "pygments_lexer": "ipython3",
   "version": "3.9.7"
  }
 },
 "nbformat": 4,
 "nbformat_minor": 5
}
