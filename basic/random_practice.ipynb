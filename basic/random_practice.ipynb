{
  "nbformat": 4,
  "nbformat_minor": 0,
  "metadata": {
    "colab": {
      "name": "random_practice.ipynb",
      "provenance": []
    },
    "kernelspec": {
      "name": "python3",
      "display_name": "Python 3"
    },
    "language_info": {
      "name": "python"
    }
  },
  "cells": [
    {
      "cell_type": "code",
      "execution_count": 4,
      "metadata": {
        "colab": {
          "base_uri": "https://localhost:8080/"
        },
        "id": "NKaY-7QXam8F",
        "outputId": "90d437c6-0ddf-46a2-f470-b63a2cd27496"
      },
      "outputs": [
        {
          "output_type": "stream",
          "name": "stdout",
          "text": [
            "Enter the Random numbers from List :30\n"
          ]
        }
      ],
      "source": [
        "import random\n",
        "list1 = [10, 20, 30, 40, 50]\n",
        "print(\"Enter the Random numbers from List :\" ,end = \"\")\n",
        "print(random.choice(list1))"
      ]
    },
    {
      "cell_type": "code",
      "source": [
        "print(\"Enter the Random numbers :\",end = \"\")\n",
        "print(random.randrange(50,100,5))"
      ],
      "metadata": {
        "colab": {
          "base_uri": "https://localhost:8080/"
        },
        "id": "F9rnG6bgbBnB",
        "outputId": "abcbb52f-089b-412b-eee7-d01ddf9119ad"
      },
      "execution_count": 7,
      "outputs": [
        {
          "output_type": "stream",
          "name": "stdout",
          "text": [
            "Enter the Random numbers :95\n"
          ]
        }
      ]
    },
    {
      "cell_type": "code",
      "source": [
        "a = 10\n",
        "print(\"Hexadecimal of a value is :\",hex(a))\n",
        "print(\"Octat of a given value is :\",oct(a))\n",
        "print(\"Binary of a given value is :\",bin(a))"
      ],
      "metadata": {
        "colab": {
          "base_uri": "https://localhost:8080/"
        },
        "id": "aTgvTh__beLr",
        "outputId": "ca4ddbfb-fb76-4ede-d23d-3258fc3d29f4"
      },
      "execution_count": 8,
      "outputs": [
        {
          "output_type": "stream",
          "name": "stdout",
          "text": [
            "Hexadecimal of a value is : 0xa\n",
            "Octat of a given value is : 0o12\n",
            "Binary of a given value is : 0b1010\n"
          ]
        }
      ]
    },
    {
      "cell_type": "code",
      "source": [
        "a = 2\n",
        "b = 6.5\n",
        "c = 6j\n",
        "print(type(a))\n",
        "print(type(b))\n",
        "print(type(c))"
      ],
      "metadata": {
        "colab": {
          "base_uri": "https://localhost:8080/"
        },
        "id": "JML0A-kbcEdP",
        "outputId": "49c50eab-c58c-4180-a218-3d0f3f9c2902"
      },
      "execution_count": 9,
      "outputs": [
        {
          "output_type": "stream",
          "name": "stdout",
          "text": [
            "<class 'int'>\n",
            "<class 'float'>\n",
            "<class 'complex'>\n"
          ]
        }
      ]
    },
    {
      "cell_type": "code",
      "source": [
        "print(float(a))"
      ],
      "metadata": {
        "colab": {
          "base_uri": "https://localhost:8080/"
        },
        "id": "BJW4jvZ6cRXx",
        "outputId": "b2a8ed07-942d-4aec-b5c9-6f481c07efb8"
      },
      "execution_count": 10,
      "outputs": [
        {
          "output_type": "stream",
          "name": "stdout",
          "text": [
            "2.0\n"
          ]
        }
      ]
    },
    {
      "cell_type": "code",
      "source": [
        "print(complex(b))"
      ],
      "metadata": {
        "colab": {
          "base_uri": "https://localhost:8080/"
        },
        "id": "ujlRhAfQcWMi",
        "outputId": "65d83bac-aff9-4d1a-e7e0-e2d830f77320"
      },
      "execution_count": 15,
      "outputs": [
        {
          "output_type": "stream",
          "name": "stdout",
          "text": [
            "(6.5+0j)\n"
          ]
        }
      ]
    },
    {
      "cell_type": "code",
      "source": [
        "print(float(b))"
      ],
      "metadata": {
        "colab": {
          "base_uri": "https://localhost:8080/"
        },
        "id": "fshY0vUCcZ9Z",
        "outputId": "368166c0-de82-4d18-865c-af391b49a53a"
      },
      "execution_count": 14,
      "outputs": [
        {
          "output_type": "stream",
          "name": "stdout",
          "text": [
            "6.5\n"
          ]
        }
      ]
    },
    {
      "cell_type": "code",
      "source": [
        "list=[1,2, 3,4, 5]\n",
        "print(random.choice(list))"
      ],
      "metadata": {
        "colab": {
          "base_uri": "https://localhost:8080/"
        },
        "id": "0HTkFKwvccrx",
        "outputId": "aa9a6e08-2408-4c5d-ba69-6a1bb920f45d"
      },
      "execution_count": 17,
      "outputs": [
        {
          "output_type": "stream",
          "name": "stdout",
          "text": [
            "4\n"
          ]
        }
      ]
    },
    {
      "cell_type": "code",
      "source": [
        "x=99\n",
        "y=1.11\n",
        "print(type(x))\n",
        "print(type(y))"
      ],
      "metadata": {
        "colab": {
          "base_uri": "https://localhost:8080/"
        },
        "id": "HdewYh0mc4ix",
        "outputId": "99fcc400-5604-4871-96ef-78078f6efcc7"
      },
      "execution_count": 18,
      "outputs": [
        {
          "output_type": "stream",
          "name": "stdout",
          "text": [
            "<class 'int'>\n",
            "<class 'float'>\n"
          ]
        }
      ]
    },
    {
      "cell_type": "code",
      "source": [
        "z=x+y\n",
        "print(z)"
      ],
      "metadata": {
        "colab": {
          "base_uri": "https://localhost:8080/"
        },
        "id": "bPTrP0xpdQuP",
        "outputId": "2d887ddb-1bd1-4e7c-b664-511e74d5fddc"
      },
      "execution_count": 19,
      "outputs": [
        {
          "output_type": "stream",
          "name": "stdout",
          "text": [
            "100.11\n"
          ]
        }
      ]
    },
    {
      "cell_type": "code",
      "source": [
        "int(123.45)\n"
      ],
      "metadata": {
        "colab": {
          "base_uri": "https://localhost:8080/"
        },
        "id": "3DzKwQ58dbgn",
        "outputId": "2f72ff46-95d9-45c5-dd9b-ba64a7fbb6cb"
      },
      "execution_count": 20,
      "outputs": [
        {
          "output_type": "execute_result",
          "data": {
            "text/plain": [
              "123"
            ]
          },
          "metadata": {},
          "execution_count": 20
        }
      ]
    },
    {
      "cell_type": "code",
      "source": [
        "i=99\n",
        "s=\"apple\"\n",
        "print(s+str(i))"
      ],
      "metadata": {
        "colab": {
          "base_uri": "https://localhost:8080/"
        },
        "id": "X3MJTA5Ndh6v",
        "outputId": "48c91264-9c8f-471a-9d83-0b215d8d2db9"
      },
      "execution_count": 22,
      "outputs": [
        {
          "output_type": "stream",
          "name": "stdout",
          "text": [
            "apple99\n"
          ]
        }
      ]
    },
    {
      "cell_type": "code",
      "source": [
        "i=20\n",
        "print(\"binary form :\",bin(i))\n",
        "print(\"hexa form : \", hex (i))\n",
        "print(\"octal form  :\",oct(i))"
      ],
      "metadata": {
        "colab": {
          "base_uri": "https://localhost:8080/"
        },
        "id": "plxUk_sndt62",
        "outputId": "a532fefa-1dea-4fe5-ea6a-b4bf132ce3e7"
      },
      "execution_count": 24,
      "outputs": [
        {
          "output_type": "stream",
          "name": "stdout",
          "text": [
            "binary form : 0b10100\n",
            "hexa form :  0x14\n",
            "octal form  : 0o24\n"
          ]
        }
      ]
    },
    {
      "cell_type": "code",
      "source": [
        "roll_no=30\n",
        "print(\"roll no :\", roll_no)"
      ],
      "metadata": {
        "colab": {
          "base_uri": "https://localhost:8080/"
        },
        "id": "f1VC9GT1eZo1",
        "outputId": "efa62142-52b2-487d-ab49-5dd6aba9dcc5"
      },
      "execution_count": 29,
      "outputs": [
        {
          "output_type": "stream",
          "name": "stdout",
          "text": [
            "roll no : 30\n"
          ]
        }
      ]
    },
    {
      "cell_type": "code",
      "source": [
        "a=2\n",
        "b=3.6\n",
        "c=4+5j\n",
        "print(type(a))\n",
        "print(type(b))\n",
        "print(type(c))"
      ],
      "metadata": {
        "colab": {
          "base_uri": "https://localhost:8080/"
        },
        "id": "O8sPrC8-ezhe",
        "outputId": "8589b78b-b907-434c-ae31-1be852c69cbb"
      },
      "execution_count": 30,
      "outputs": [
        {
          "output_type": "stream",
          "name": "stdout",
          "text": [
            "<class 'int'>\n",
            "<class 'float'>\n",
            "<class 'complex'>\n"
          ]
        }
      ]
    },
    {
      "cell_type": "code",
      "source": [
        "int(b)"
      ],
      "metadata": {
        "colab": {
          "base_uri": "https://localhost:8080/"
        },
        "id": "SSfHDjkwfvuV",
        "outputId": "120313f2-b30c-43c7-d849-467bf0f5285e"
      },
      "execution_count": 31,
      "outputs": [
        {
          "output_type": "execute_result",
          "data": {
            "text/plain": [
              "3"
            ]
          },
          "metadata": {},
          "execution_count": 31
        }
      ]
    },
    {
      "cell_type": "code",
      "source": [
        "float(a)"
      ],
      "metadata": {
        "colab": {
          "base_uri": "https://localhost:8080/"
        },
        "id": "GhDLr7kXf6pb",
        "outputId": "8db6f366-dc69-4546-c233-a55f91f3d1ac"
      },
      "execution_count": 32,
      "outputs": [
        {
          "output_type": "execute_result",
          "data": {
            "text/plain": [
              "2.0"
            ]
          },
          "metadata": {},
          "execution_count": 32
        }
      ]
    },
    {
      "cell_type": "code",
      "source": [
        "float(b)"
      ],
      "metadata": {
        "colab": {
          "base_uri": "https://localhost:8080/"
        },
        "id": "x1MhTGV0f9T7",
        "outputId": "be552b7e-6f55-4220-bddc-9a309dd3e10f"
      },
      "execution_count": 34,
      "outputs": [
        {
          "output_type": "execute_result",
          "data": {
            "text/plain": [
              "3.6"
            ]
          },
          "metadata": {},
          "execution_count": 34
        }
      ]
    },
    {
      "cell_type": "code",
      "source": [
        ""
      ],
      "metadata": {
        "id": "hIep8yHdgBTT"
      },
      "execution_count": null,
      "outputs": []
    }
  ]
}
