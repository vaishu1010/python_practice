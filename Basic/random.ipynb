{
 "cells": [
  {
   "cell_type": "code",
   "execution_count": null,
   "id": "8d9416a2",
   "metadata": {},
   "outputs": [],
   "source": [
    "# print the random value from the list"
   ]
  },
  {
   "cell_type": "code",
   "execution_count": 4,
   "id": "f839d811",
   "metadata": {},
   "outputs": [
    {
     "name": "stdout",
     "output_type": "stream",
     "text": [
      "[6]\n"
     ]
    }
   ],
   "source": [
    "import random\n",
    "list1=[1,2,3,4,5,6]\n",
    "print(random.choices(list1))"
   ]
  },
  {
   "cell_type": "code",
   "execution_count": 11,
   "id": "c06d3bf8",
   "metadata": {},
   "outputs": [
    {
     "name": "stdout",
     "output_type": "stream",
     "text": [
      "A random number from list is : 8\n"
     ]
    }
   ],
   "source": [
    "# using choice()\n",
    "#given list number \n",
    "print(\"A random number from list is :\" , end=\" \")\n",
    "print(random.choice([1,4,8,10,3]))"
   ]
  },
  {
   "cell_type": "code",
   "execution_count": 13,
   "id": "6c84971a",
   "metadata": {},
   "outputs": [
    {
     "name": "stdout",
     "output_type": "stream",
     "text": [
      "A random number from list is: 7\n"
     ]
    }
   ],
   "source": [
    "print(\"A random number from list is:\",end=\" \")\n",
    "print(random.choice([5,7,1,2,7,8]))"
   ]
  },
  {
   "cell_type": "code",
   "execution_count": null,
   "id": "c86f3e72",
   "metadata": {},
   "outputs": [],
   "source": [
    "# Type casting :"
   ]
  },
  {
   "cell_type": "code",
   "execution_count": 16,
   "id": "e3f2162d",
   "metadata": {},
   "outputs": [
    {
     "name": "stdout",
     "output_type": "stream",
     "text": [
      "<class 'int'>\n",
      "<class 'float'>\n",
      "<class 'float'>\n"
     ]
    }
   ],
   "source": [
    "x=99\n",
    "y=1.11\n",
    "#data in int and float\n",
    "print(type(x))\n",
    "print(type(y))\n",
    "\n",
    "#addition\n",
    "z=x+y\n",
    "# type after add \n",
    "print(type(z))\n"
   ]
  },
  {
   "cell_type": "code",
   "execution_count": 17,
   "id": "d2ca302c",
   "metadata": {},
   "outputs": [
    {
     "name": "stdout",
     "output_type": "stream",
     "text": [
      "123\n"
     ]
    }
   ],
   "source": [
    "# Explicit type conversion\n",
    "a=int(123.654)\n",
    "print(a)"
   ]
  },
  {
   "cell_type": "code",
   "execution_count": 18,
   "id": "5fb92dab",
   "metadata": {},
   "outputs": [
    {
     "name": "stdout",
     "output_type": "stream",
     "text": [
      "10\n"
     ]
    }
   ],
   "source": [
    "b=int(\"10\")\n",
    "print(b)"
   ]
  },
  {
   "cell_type": "code",
   "execution_count": 19,
   "id": "7ceeab3a",
   "metadata": {},
   "outputs": [
    {
     "ename": "ValueError",
     "evalue": "invalid literal for int() with base 10: '10.5'",
     "output_type": "error",
     "traceback": [
      "\u001b[1;31m---------------------------------------------------------------------------\u001b[0m",
      "\u001b[1;31mValueError\u001b[0m                                Traceback (most recent call last)",
      "\u001b[1;32m~\\AppData\\Local\\Temp/ipykernel_13660/1094359626.py\u001b[0m in \u001b[0;36m<module>\u001b[1;34m\u001b[0m\n\u001b[1;32m----> 1\u001b[1;33m \u001b[0mc\u001b[0m\u001b[1;33m=\u001b[0m\u001b[0mint\u001b[0m\u001b[1;33m(\u001b[0m\u001b[1;34m\"10.5\"\u001b[0m\u001b[1;33m)\u001b[0m\u001b[1;33m\u001b[0m\u001b[1;33m\u001b[0m\u001b[0m\n\u001b[0m\u001b[0;32m      2\u001b[0m \u001b[0mprint\u001b[0m\u001b[1;33m(\u001b[0m\u001b[0mc\u001b[0m\u001b[1;33m)\u001b[0m\u001b[1;33m\u001b[0m\u001b[1;33m\u001b[0m\u001b[0m\n",
      "\u001b[1;31mValueError\u001b[0m: invalid literal for int() with base 10: '10.5'"
     ]
    }
   ],
   "source": [
    "c=int(\"10.5\")\n",
    "print(c)"
   ]
  },
  {
   "cell_type": "code",
   "execution_count": null,
   "id": "04813cad",
   "metadata": {},
   "outputs": [],
   "source": [
    "# Concatenating int and str types"
   ]
  },
  {
   "cell_type": "code",
   "execution_count": 23,
   "id": "d57f995c",
   "metadata": {},
   "outputs": [
    {
     "name": "stdout",
     "output_type": "stream",
     "text": [
      "apple99\n"
     ]
    }
   ],
   "source": [
    "i = 99\n",
    "s = \"apple\"\n",
    "print(s + str(i))\n"
   ]
  },
  {
   "cell_type": "code",
   "execution_count": 24,
   "id": "5a1d4250",
   "metadata": {},
   "outputs": [
    {
     "name": "stdout",
     "output_type": "stream",
     "text": [
      "in binary form : : 0b10100\n",
      "in octal form: : 0o24\n",
      "in hexa  decimal form : : 0x14\n"
     ]
    }
   ],
   "source": [
    "# hexo-octan\n",
    "i=20\n",
    "print(\"in binary form : :\",bin(i))\n",
    "print(\"in octal form: :\",oct(i))\n",
    "print(\"in hexa  decimal form : :\", hex(i))\n"
   ]
  },
  {
   "cell_type": "code",
   "execution_count": null,
   "id": "06abceba",
   "metadata": {},
   "outputs": [],
   "source": [
    "# Direct"
   ]
  },
  {
   "cell_type": "code",
   "execution_count": 36,
   "id": "304f10a9",
   "metadata": {},
   "outputs": [
    {
     "name": "stdout",
     "output_type": "stream",
     "text": [
      "The roll no is: : 33\n"
     ]
    }
   ],
   "source": [
    "roll_no = 33\n",
    "#display roll no\n",
    "print(\"The roll no is: :\" , roll_no)"
   ]
  },
  {
   "cell_type": "code",
   "execution_count": null,
   "id": "4c70443f",
   "metadata": {},
   "outputs": [],
   "source": []
  }
 ],
 "metadata": {
  "kernelspec": {
   "display_name": "Python 3 (ipykernel)",
   "language": "python",
   "name": "python3"
  },
  "language_info": {
   "codemirror_mode": {
    "name": "ipython",
    "version": 3
   },
   "file_extension": ".py",
   "mimetype": "text/x-python",
   "name": "python",
   "nbconvert_exporter": "python",
   "pygments_lexer": "ipython3",
   "version": "3.9.7"
  }
 },
 "nbformat": 4,
 "nbformat_minor": 5
}
