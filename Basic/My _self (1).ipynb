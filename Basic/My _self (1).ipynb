{
 "cells": [
  {
   "cell_type": "code",
   "execution_count": null,
   "id": "56530a6e",
   "metadata": {},
   "outputs": [],
   "source": [
    "# \"MY SELF\""
   ]
  },
  {
   "cell_type": "code",
   "execution_count": 4,
   "id": "bcd0d00f",
   "metadata": {},
   "outputs": [
    {
     "name": "stdout",
     "output_type": "stream",
     "text": [
      "To print my self ,need your details. \n",
      " Your Details\n",
      "1, Name ? = Vaishnavi Ratnakar Akre\n",
      "2. Age ? = 23\n",
      "3. Where do you stay \\ U0001F3E0 ? =Ambhai,Palghar\n",
      "4. Qualification 🎓 ?=Graduation\n",
      "5. Recent work profile🏢 ? =fresher\n",
      "6. Hooby ? = Playing,Dancing,Reading\n",
      "7. interest in field ? = Art\n",
      "8. Your passion ? = Travelling\n",
      "9. Your goal 🎯 ? = Success\n",
      "--MY SELF--\n",
      "🙏 Good Morning/ Good Afternoon🌅\n",
      "\t My Name is Vaishnavi Ratnakar Akre . I am 23 years old . I am staying \\ U0001F3E0 in Ambhai,Palghar.   My highest qualification is Graduation \\ U0001f393. \n",
      "\n",
      "\t Recently i am working as fresher . My hobby is Playing,Dancing,Reading. I am interested in work as a Art field. I am  passionate above is Travelling 😎. My goal 🎯 is Success. \n",
      "Thank You 🙏.\n"
     ]
    }
   ],
   "source": [
    "print(\"To print my self ,need your details. \")\n",
    "print(\" Your Details\")\n",
    "a = input(\"1, Name ? = \")\n",
    "b = int(input(\"2. Age ? = \"))\n",
    "c = input(\"3. Where do you stay \\ U0001F3E0 ? =\")\n",
    "d = input(\"4. Qualification \\U0001F393 ?=\")\n",
    "e = input(\"5. Recent work profile\\U0001F3E2 ? =\")\n",
    "f = input(\"6. Hooby ? = \")\n",
    "g = input(\"7. interest in field ? = \")\n",
    "h = input(\"8. Your passion ? = \")\n",
    "i = input(\"9. Your goal \\U0001F3AF ? = \")\n",
    "\n",
    "print(\"--MY SELF--\")\n",
    "print(\"\\U0001F64F Good Morning/ Good Afternoon\\U0001F305\")\n",
    "print(\"\\t My Name is %s .\"%(a) , end=\" \")\n",
    "print(\"I am %d years old .\"%(b) , end=\" \")\n",
    "print(\"I am staying \\ U0001F3E0 in %s. \" %(c), end=\" \")\n",
    "print(\" My highest qualification is %s \\ U0001f393.\"%(d) ,  end=\" \")\n",
    "print(\"\\n\")\n",
    "print(\"\\t Recently i am working as %s .\"%(e), end=\" \")\n",
    "print(\"My hobby is %s.\"%(f), end=\" \")\n",
    "print(\"I am interested in work as a %s field.\" %(g), end= \" \")\n",
    "print(\"I am  passionate above is %s \\U0001F60E.\"%(h), end=\" \")\n",
    "print(\"My goal \\U0001F3AF is %s. \"%(i))\n",
    "print(\"Thank You \\U0001F64F.\")"
   ]
  },
  {
   "cell_type": "code",
   "execution_count": null,
   "id": "239d5b0a",
   "metadata": {},
   "outputs": [],
   "source": []
  }
 ],
 "metadata": {
  "kernelspec": {
   "display_name": "Python 3 (ipykernel)",
   "language": "python",
   "name": "python3"
  },
  "language_info": {
   "codemirror_mode": {
    "name": "ipython",
    "version": 3
   },
   "file_extension": ".py",
   "mimetype": "text/x-python",
   "name": "python",
   "nbconvert_exporter": "python",
   "pygments_lexer": "ipython3",
   "version": "3.9.7"
  }
 },
 "nbformat": 4,
 "nbformat_minor": 5
}
