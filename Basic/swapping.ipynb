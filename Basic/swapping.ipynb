{
 "cells": [
  {
   "cell_type": "code",
   "execution_count": 1,
   "id": "9a7c214f",
   "metadata": {},
   "outputs": [
    {
     "name": "stdout",
     "output_type": "stream",
     "text": [
      "1\n",
      "3200000\n"
     ]
    }
   ],
   "source": [
    "a = 20\n",
    "b = 5\n",
    "a , b = a//20,a**b\n",
    "print(a)\n",
    "print(b)\n"
   ]
  },
  {
   "cell_type": "code",
   "execution_count": 2,
   "id": "b9baef37",
   "metadata": {},
   "outputs": [
    {
     "name": "stdout",
     "output_type": "stream",
     "text": [
      "20\n",
      "None\n"
     ]
    }
   ],
   "source": [
    "print(print(20))"
   ]
  },
  {
   "cell_type": "code",
   "execution_count": 3,
   "id": "1c4ae35f",
   "metadata": {},
   "outputs": [
    {
     "name": "stdout",
     "output_type": "stream",
     "text": [
      "Sanvee\n",
      "None\n"
     ]
    }
   ],
   "source": [
    "print(print(\"Sanvee\"))\n"
   ]
  },
  {
   "cell_type": "code",
   "execution_count": 4,
   "id": "52aee556",
   "metadata": {},
   "outputs": [
    {
     "name": "stdout",
     "output_type": "stream",
     "text": [
      "5\n",
      "None\n"
     ]
    }
   ],
   "source": [
    "print(print(int(5.5)))\n"
   ]
  },
  {
   "cell_type": "code",
   "execution_count": 5,
   "id": "dec50ffb",
   "metadata": {},
   "outputs": [
    {
     "name": "stdout",
     "output_type": "stream",
     "text": [
      "2.75\n",
      "5.0\n"
     ]
    }
   ],
   "source": [
    "a = 2.5\n",
    "b = 5.5\n",
    "a , b = (b/2 , a*2)\n",
    "print(a)\n",
    "print(b)\n"
   ]
  },
  {
   "cell_type": "code",
   "execution_count": 6,
   "id": "4e15aea9",
   "metadata": {},
   "outputs": [
    {
     "name": "stdout",
     "output_type": "stream",
     "text": [
      "2 1.0 10\n"
     ]
    }
   ],
   "source": [
    "\n",
    "a , b = 2 , 10\n",
    "c , b = a*5 , a/2\n",
    "print(a , b , c)\n"
   ]
  },
  {
   "cell_type": "code",
   "execution_count": 7,
   "id": "1bbdb2dc",
   "metadata": {},
   "outputs": [
    {
     "name": "stdout",
     "output_type": "stream",
     "text": [
      "50\n",
      "70\n"
     ]
    }
   ],
   "source": [
    "x = 20\n",
    "y = 70-x\n",
    "x , y = y , x+y\n",
    "print(x)\n",
    "print(y)\n"
   ]
  },
  {
   "cell_type": "code",
   "execution_count": 8,
   "id": "700e463b",
   "metadata": {},
   "outputs": [
    {
     "name": "stdout",
     "output_type": "stream",
     "text": [
      "20\n",
      "10\n"
     ]
    }
   ],
   "source": [
    "a = 10\n",
    "b = 15\n",
    "a , b = b+5 , a\n",
    "print(a)\n",
    "print(b)\n"
   ]
  },
  {
   "cell_type": "code",
   "execution_count": 9,
   "id": "ac426ab3",
   "metadata": {},
   "outputs": [
    {
     "name": "stdout",
     "output_type": "stream",
     "text": [
      "20\n",
      "10\n"
     ]
    }
   ],
   "source": [
    "a=10\n",
    "b=20\n",
    "a,b=b,a\n",
    "print(a)\n",
    "print(b)\n"
   ]
  },
  {
   "cell_type": "code",
   "execution_count": 10,
   "id": "7b40b594",
   "metadata": {},
   "outputs": [
    {
     "name": "stdout",
     "output_type": "stream",
     "text": [
      "25\n",
      "15\n"
     ]
    }
   ],
   "source": [
    "x=15\n",
    "y=25\n",
    "y,x=x,y\n",
    "print(x)\n",
    "print(y)\n"
   ]
  },
  {
   "cell_type": "code",
   "execution_count": 11,
   "id": "4549da2b",
   "metadata": {},
   "outputs": [
    {
     "name": "stdout",
     "output_type": "stream",
     "text": [
      "20\n",
      "10\n"
     ]
    }
   ],
   "source": [
    "a=10\n",
    "b=15\n",
    "a,b=b+5,a\n",
    "print(a)\n",
    "print(b)\n"
   ]
  },
  {
   "cell_type": "code",
   "execution_count": 12,
   "id": "f2ecaf9c",
   "metadata": {},
   "outputs": [
    {
     "name": "stdout",
     "output_type": "stream",
     "text": [
      "50\n",
      "20\n"
     ]
    }
   ],
   "source": [
    "a=20\n",
    "b=30+a\n",
    "a,b=b,a\n",
    "print(a)\n",
    "print(b)"
   ]
  },
  {
   "cell_type": "code",
   "execution_count": 13,
   "id": "df77e3df",
   "metadata": {},
   "outputs": [
    {
     "name": "stdout",
     "output_type": "stream",
     "text": [
      "90\n",
      "110\n"
     ]
    }
   ],
   "source": [
    "x=20\n",
    "y=70 + x\n",
    "x , y = y, x+y \n",
    "print(x)\n",
    "print(y)\n"
   ]
  },
  {
   "cell_type": "code",
   "execution_count": 14,
   "id": "75adee3d",
   "metadata": {},
   "outputs": [
    {
     "name": "stdout",
     "output_type": "stream",
     "text": [
      "50\n",
      "70\n"
     ]
    }
   ],
   "source": [
    "x=20\n",
    "y=70-x\n",
    "x , y=y , y+x\n",
    "print(x)\n",
    "print(y)\n"
   ]
  },
  {
   "cell_type": "code",
   "execution_count": 15,
   "id": "0f83566f",
   "metadata": {},
   "outputs": [
    {
     "name": "stdout",
     "output_type": "stream",
     "text": [
      "2 1.0 10\n"
     ]
    }
   ],
   "source": [
    "a ,b=2 ,10\n",
    "c , b=a*5 , a/2\n",
    "print(a, b, c)\n"
   ]
  },
  {
   "cell_type": "code",
   "execution_count": 16,
   "id": "009f19b6",
   "metadata": {},
   "outputs": [
    {
     "name": "stdout",
     "output_type": "stream",
     "text": [
      "1 3200000\n"
     ]
    }
   ],
   "source": [
    "a=20\n",
    "b=5\n",
    "a ,b =a//20 , a**b\n",
    "print(a , b)\n"
   ]
  },
  {
   "cell_type": "code",
   "execution_count": 17,
   "id": "6069e4d5",
   "metadata": {},
   "outputs": [
    {
     "name": "stdout",
     "output_type": "stream",
     "text": [
      "2.75 5.0\n"
     ]
    }
   ],
   "source": [
    "a=2.5\n",
    "b=5.5\n",
    "a ,b=(b/2 ,a*2)\n",
    "print(a ,b)\n"
   ]
  },
  {
   "cell_type": "code",
   "execution_count": 18,
   "id": "2e149ac0",
   "metadata": {},
   "outputs": [
    {
     "name": "stdout",
     "output_type": "stream",
     "text": [
      "20\n",
      "None\n"
     ]
    }
   ],
   "source": [
    "print(print(20))"
   ]
  },
  {
   "cell_type": "code",
   "execution_count": 19,
   "id": "38068666",
   "metadata": {},
   "outputs": [
    {
     "name": "stdout",
     "output_type": "stream",
     "text": [
      "5\n",
      "None\n"
     ]
    }
   ],
   "source": [
    "print(print(5))\n"
   ]
  },
  {
   "cell_type": "code",
   "execution_count": 20,
   "id": "da7a0689",
   "metadata": {},
   "outputs": [
    {
     "name": "stdout",
     "output_type": "stream",
     "text": [
      "sanvee\n",
      "None\n"
     ]
    }
   ],
   "source": [
    "print(print(\"sanvee\"))\n"
   ]
  },
  {
   "cell_type": "code",
   "execution_count": null,
   "id": "8c928479",
   "metadata": {},
   "outputs": [],
   "source": []
  }
 ],
 "metadata": {
  "kernelspec": {
   "display_name": "Python 3 (ipykernel)",
   "language": "python",
   "name": "python3"
  },
  "language_info": {
   "codemirror_mode": {
    "name": "ipython",
    "version": 3
   },
   "file_extension": ".py",
   "mimetype": "text/x-python",
   "name": "python",
   "nbconvert_exporter": "python",
   "pygments_lexer": "ipython3",
   "version": "3.9.7"
  }
 },
 "nbformat": 4,
 "nbformat_minor": 5
}
