{
 "cells": [
  {
   "cell_type": "code",
   "execution_count": 18,
   "id": "caff6137",
   "metadata": {},
   "outputs": [
    {
     "name": "stdout",
     "output_type": "stream",
     "text": [
      " the dog name is Dannyand its color is brown and size is medium\n"
     ]
    }
   ],
   "source": [
    "class Animal:\n",
    "    def __init__(self,name,color):\n",
    "        self.name=name\n",
    "        self.color=color\n",
    "        \n",
    "    def animal_size(self,size):\n",
    "         return f\" the dog name is {self.name}and its color is {self.color} and size is {size}\"\n",
    "        \n",
    "Animal1 = Animal(\"Danny\",\"brown\")\n",
    "print(Animal1.animal_size(\"medium\"))\n"
   ]
  },
  {
   "cell_type": "code",
   "execution_count": 39,
   "id": "315afe2a",
   "metadata": {},
   "outputs": [
    {
     "name": "stdout",
     "output_type": "stream",
     "text": [
      " The  name is parrot and its color is green and size is medium\n"
     ]
    }
   ],
   "source": [
    "class bird:\n",
    "    def __init__(self,name,color):\n",
    "        self.name=name\n",
    "        self.color=color\n",
    "        \n",
    "    def bird_size(self,size):\n",
    "            return f\" The  name is {self.name} and its color is {self.color} and size is {size}\"\n",
    "birds = bird(\"parrot\",\"green\")\n",
    "print(birds.bird_size(\"medium\"))"
   ]
  },
  {
   "cell_type": "code",
   "execution_count": 42,
   "id": "10c0dfec",
   "metadata": {},
   "outputs": [
    {
     "name": "stdout",
     "output_type": "stream",
     "text": [
      " The name is duster and its color is blue and mileage is 36\n"
     ]
    }
   ],
   "source": [
    "class car:\n",
    "    def __init__(self,name,color):\n",
    "        self.name=name\n",
    "        self.color=color\n",
    "    def car_mileage(self,mileage):\n",
    "        return f\" The name is {self.name} and its color is {self.color} and mileage is {mileage}\"\n",
    "cars=car(\"duster\",\"blue\")\n",
    "print(cars.car_mileage(36))"
   ]
  },
  {
   "cell_type": "code",
   "execution_count": 46,
   "id": "89ad3041",
   "metadata": {},
   "outputs": [
    {
     "name": "stdout",
     "output_type": "stream",
     "text": [
      " The name is vaishnavi and its qualification is BE and hobbie is drawing\n"
     ]
    }
   ],
   "source": [
    "class student:\n",
    "    def __init__(self,name,qualification):\n",
    "        self.name=name\n",
    "        self.qualification=qualification\n",
    "    def student_hobbie(self,hobbie):\n",
    "        return f\" The name is {self.name} and its qualification is {self.qualification} and hobbie is {hobbie}\"\n",
    "students=student(\"vaishnavi\",\"BE\")\n",
    "print(students.student_hobbie(\"drawing\"))"
   ]
  },
  {
   "cell_type": "code",
   "execution_count": 61,
   "id": "c1e5845b",
   "metadata": {},
   "outputs": [
    {
     "name": "stdout",
     "output_type": "stream",
     "text": [
      " The name is duster and  its mileage is 34.45km \n"
     ]
    },
    {
     "ename": "AttributeError",
     "evalue": "'car' object has no attribute '__name'",
     "output_type": "error",
     "traceback": [
      "\u001b[1;31m---------------------------------------------------------------------------\u001b[0m",
      "\u001b[1;31mAttributeError\u001b[0m                            Traceback (most recent call last)",
      "\u001b[1;32m~\\AppData\\Local\\Temp/ipykernel_20520/3173295525.py\u001b[0m in \u001b[0;36m<module>\u001b[1;34m\u001b[0m\n\u001b[0;32m     10\u001b[0m \u001b[0mprint\u001b[0m\u001b[1;33m(\u001b[0m\u001b[0mobj\u001b[0m\u001b[1;33m.\u001b[0m\u001b[0mdescription\u001b[0m\u001b[1;33m(\u001b[0m\u001b[1;33m)\u001b[0m\u001b[1;33m)\u001b[0m\u001b[1;33m\u001b[0m\u001b[1;33m\u001b[0m\u001b[0m\n\u001b[0;32m     11\u001b[0m \u001b[1;33m\u001b[0m\u001b[0m\n\u001b[1;32m---> 12\u001b[1;33m \u001b[0mprint\u001b[0m\u001b[1;33m(\u001b[0m\u001b[0mobj\u001b[0m\u001b[1;33m.\u001b[0m\u001b[0m__name\u001b[0m\u001b[1;33m)\u001b[0m\u001b[1;33m\u001b[0m\u001b[1;33m\u001b[0m\u001b[0m\n\u001b[0m\u001b[0;32m     13\u001b[0m \u001b[0mprint\u001b[0m\u001b[1;33m(\u001b[0m\u001b[0mobj\u001b[0m\u001b[1;33m.\u001b[0m\u001b[0mmileage\u001b[0m\u001b[1;33m)\u001b[0m\u001b[1;33m\u001b[0m\u001b[1;33m\u001b[0m\u001b[0m\n",
      "\u001b[1;31mAttributeError\u001b[0m: 'car' object has no attribute '__name'"
     ]
    }
   ],
   "source": [
    "class car:\n",
    "    def __init__(self,name,mileage):\n",
    "        self._name=name                                #private\n",
    "        self.mileage=mileage\n",
    "    def description(self):\n",
    "        return f\" The name is {self._name} and  its mileage is {self.mileage}km \"\n",
    "\n",
    "obj=car(\"duster\",34.45)\n",
    "\n",
    "print(obj.description())\n",
    "\n",
    "print(obj.__name)\n",
    "print(obj.mileage)\n"
   ]
  },
  {
   "cell_type": "code",
   "execution_count": 52,
   "id": "485155a5",
   "metadata": {},
   "outputs": [
    {
     "name": "stdout",
     "output_type": "stream",
     "text": [
      " The name is vaishnavi and its course is python and mam is sanvee\n"
     ]
    }
   ],
   "source": [
    "class nettech:\n",
    "    def __init__(self,name,course):\n",
    "        self.name=name\n",
    "        self.course=course\n",
    "    def nettech_mam(self,mam):\n",
    "        return f\" The name is {self.name} and its course is {self.course} and mam is {mam}\"\n",
    "nettechindia=nettech(\"vaishnavi\",\"python\")  \n",
    "print(nettechindia.nettech_mam(\"sanvee\"))"
   ]
  },
  {
   "cell_type": "code",
   "execution_count": 63,
   "id": "cf4f3c84",
   "metadata": {},
   "outputs": [
    {
     "name": "stdout",
     "output_type": "stream",
     "text": [
      " The name is duster and  its mileage is 34.45km \n",
      "duster\n",
      "34.45\n"
     ]
    }
   ],
   "source": [
    "class car:\n",
    "    def __init__(self,name,mileage):          # private \n",
    "        self.__name=name\n",
    "        self.mileage=mileage\n",
    "    def description(self):\n",
    "        return f\" The name is {self.__name} and  its mileage is {self.mileage}km \"\n",
    "\n",
    "obj=car(\"duster\",34.45)\n",
    "\n",
    "print(obj.description())\n",
    "\n",
    "print(obj._car__name)\n",
    "print(obj.mileage)                 #mangland\n"
   ]
  },
  {
   "cell_type": "code",
   "execution_count": 64,
   "id": "5ee1af84",
   "metadata": {},
   "outputs": [
    {
     "name": "stdout",
     "output_type": "stream",
     "text": [
      " The name is duster and  its mileage is 34.45km \n",
      "duster\n",
      "34.45\n"
     ]
    }
   ],
   "source": [
    "class car:\n",
    "    def __init__(self,name,mileage):                  #protected variable\n",
    "        self._name=name\n",
    "        self.mileage=mileage\n",
    "    def description(self):\n",
    "        return f\" The name is {self._name} and  its mileage is {self.mileage}km \"\n",
    "\n",
    "obj=car(\"duster\",34.45)\n",
    "\n",
    "print(obj.description())\n",
    "\n",
    "print(obj._name)\n",
    "print(obj.mileage)\n"
   ]
  },
  {
   "cell_type": "code",
   "execution_count": null,
   "id": "b8bf38ab",
   "metadata": {},
   "outputs": [],
   "source": []
  }
 ],
 "metadata": {
  "kernelspec": {
   "display_name": "Python 3 (ipykernel)",
   "language": "python",
   "name": "python3"
  },
  "language_info": {
   "codemirror_mode": {
    "name": "ipython",
    "version": 3
   },
   "file_extension": ".py",
   "mimetype": "text/x-python",
   "name": "python",
   "nbconvert_exporter": "python",
   "pygments_lexer": "ipython3",
   "version": "3.9.7"
  }
 },
 "nbformat": 4,
 "nbformat_minor": 5
}
