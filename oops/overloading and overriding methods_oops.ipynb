{
 "cells": [
  {
   "cell_type": "code",
   "execution_count": null,
   "id": "237622d9",
   "metadata": {},
   "outputs": [],
   "source": [
    "# overloading methods:"
   ]
  },
  {
   "cell_type": "code",
   "execution_count": 2,
   "id": "0eaac21e",
   "metadata": {},
   "outputs": [
    {
     "name": "stdout",
     "output_type": "stream",
     "text": [
      "Nothing\n",
      "100\n",
      "200\n"
     ]
    }
   ],
   "source": [
    "class area:\n",
    "    def find_area(self , x = None , y = None):\n",
    "        if x!=None and y!=None :\n",
    "            print(x*y)\n",
    "        elif x!=None:\n",
    "            print(x*x)\n",
    "        else:\n",
    "            print(\"Nothing\")\n",
    "obj1=area()\n",
    "obj1.find_area()\n",
    "obj1.find_area(10)\n",
    "obj1.find_area(10,20)"
   ]
  },
  {
   "cell_type": "code",
   "execution_count": 3,
   "id": "9927966a",
   "metadata": {},
   "outputs": [
    {
     "name": "stdout",
     "output_type": "stream",
     "text": [
      "I m in class B\n",
      "I m in class A\n"
     ]
    }
   ],
   "source": [
    "# overriding methods:\n",
    "class A:\n",
    "    def Data(self):\n",
    "        print(\"I m in class A\")\n",
    "class B(A):\n",
    "    def Data(self):\n",
    "        print(\"I m in class B\")\n",
    "        \n",
    "obj= B()\n",
    "obj.Data()\n",
    "obj = A()\n",
    "obj.Data()"
   ]
  },
  {
   "cell_type": "code",
   "execution_count": null,
   "id": "c6e5ac34",
   "metadata": {},
   "outputs": [],
   "source": []
  }
 ],
 "metadata": {
  "kernelspec": {
   "display_name": "Python 3 (ipykernel)",
   "language": "python",
   "name": "python3"
  },
  "language_info": {
   "codemirror_mode": {
    "name": "ipython",
    "version": 3
   },
   "file_extension": ".py",
   "mimetype": "text/x-python",
   "name": "python",
   "nbconvert_exporter": "python",
   "pygments_lexer": "ipython3",
   "version": "3.9.7"
  }
 },
 "nbformat": 4,
 "nbformat_minor": 5
}
