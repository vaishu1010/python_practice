{
 "cells": [
  {
   "cell_type": "code",
   "execution_count": 3,
   "id": "5cb3e7bc",
   "metadata": {},
   "outputs": [
    {
     "name": "stdout",
     "output_type": "stream",
     "text": [
      " The car color is blue and its mileage is 39km\n",
      " The car color is yellow and its mileage is 34km\n",
      " This is the description methods of self BMW.\n"
     ]
    }
   ],
   "source": [
    "# inheritance\n",
    "class car:                            # parent class\n",
    "    def __init__(self,color,mileage):\n",
    "        self.color = color\n",
    "        self.mileage = mileage\n",
    "    def description(self):\n",
    "        return f\" The car color is {self.color} and its mileage is {self.mileage}km\"\n",
    "    \n",
    "class audi(car):            # child  class  \n",
    "    pass \n",
    "class BMW(car):             # child class\n",
    "    def BMW_descri(self):\n",
    "        return f\" This is the description methods of self BMW.\"\n",
    "obj1= audi(\"blue\",39)\n",
    "print(obj1.description())\n",
    "\n",
    "\n",
    "obj2=BMW(\"yellow\",34)\n",
    "print(obj2.description())\n",
    "print(obj2.BMW_descri())"
   ]
  },
  {
   "cell_type": "code",
   "execution_count": 25,
   "id": "0d4a7945",
   "metadata": {},
   "outputs": [
    {
     "name": "stdout",
     "output_type": "stream",
     "text": [
      " The  color is white and His behaviour is good\n",
      " This is the description method of self vaishnavi.\n",
      " The  color is white and His behaviour is good\n"
     ]
    }
   ],
   "source": [
    "class ratnakar :\n",
    "    def __init__(self,color , behaviour):\n",
    "        self.color = color\n",
    "        self.behaviour = behaviour\n",
    "    def description(self):\n",
    "        return f\" The  color is {self.color} and His behaviour is {self.behaviour}\"\n",
    "class tanvi(ratnakar):\n",
    "        pass\n",
    "class vaishnavi(ratnakar):\n",
    "    def vaishnavi_desc(self):\n",
    "        return f\" This is the description method of self vaishnavi.\"\n",
    "obj1 = tanvi(\"white\",\"good\")\n",
    "print(obj1.description())\n",
    "\n",
    "obj2 = vaishnavi(\"white\",\"good\")\n",
    "print(obj2.vaishnavi_desc())\n",
    "print(obj2.description())"
   ]
  },
  {
   "cell_type": "code",
   "execution_count": null,
   "id": "75e6405c",
   "metadata": {},
   "outputs": [],
   "source": []
  }
 ],
 "metadata": {
  "kernelspec": {
   "display_name": "Python 3 (ipykernel)",
   "language": "python",
   "name": "python3"
  },
  "language_info": {
   "codemirror_mode": {
    "name": "ipython",
    "version": 3
   },
   "file_extension": ".py",
   "mimetype": "text/x-python",
   "name": "python",
   "nbconvert_exporter": "python",
   "pygments_lexer": "ipython3",
   "version": "3.9.7"
  }
 },
 "nbformat": 4,
 "nbformat_minor": 5
}
