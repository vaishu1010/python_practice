{
 "cells": [
  {
   "cell_type": "code",
   "execution_count": 18,
   "id": "caff6137",
   "metadata": {},
   "outputs": [
    {
     "name": "stdout",
     "output_type": "stream",
     "text": [
      " the dog name is Dannyand its color is brown and size is medium\n"
     ]
    }
   ],
   "source": [
    "class Animal:\n",
    "    def __init__(self,name,color):\n",
    "        self.name=name\n",
    "        self.color=color\n",
    "        \n",
    "    def animal_size(self,size):\n",
    "         return f\" the dog name is {self.name}and its color is {self.color} and size is {size}\"\n",
    "        \n",
    "Animal1 = Animal(\"Danny\",\"brown\")\n",
    "print(Animal1.animal_size(\"medium\"))\n"
   ]
  },
  {
   "cell_type": "code",
   "execution_count": 39,
   "id": "315afe2a",
   "metadata": {},
   "outputs": [
    {
     "name": "stdout",
     "output_type": "stream",
     "text": [
      " The  name is parrot and its color is green and size is medium\n"
     ]
    }
   ],
   "source": [
    "class bird:\n",
    "    def __init__(self,name,color):\n",
    "        self.name=name\n",
    "        self.color=color\n",
    "        \n",
    "    def bird_size(self,size):\n",
    "            return f\" The  name is {self.name} and its color is {self.color} and size is {size}\"\n",
    "birds = bird(\"parrot\",\"green\")\n",
    "print(birds.bird_size(\"medium\"))"
   ]
  },
  {
   "cell_type": "code",
   "execution_count": 42,
   "id": "10c0dfec",
   "metadata": {},
   "outputs": [
    {
     "name": "stdout",
     "output_type": "stream",
     "text": [
      " The name is duster and its color is blue and mileage is 36\n"
     ]
    }
   ],
   "source": [
    "class car:\n",
    "    def __init__(self,name,color):\n",
    "        self.name=name\n",
    "        self.color=color\n",
    "    def car_mileage(self,mileage):\n",
    "        return f\" The name is {self.name} and its color is {self.color} and mileage is {mileage}\"\n",
    "cars=car(\"duster\",\"blue\")\n",
    "print(cars.car_mileage(36))"
   ]
  },
  {
   "cell_type": "code",
   "execution_count": 46,
   "id": "89ad3041",
   "metadata": {},
   "outputs": [
    {
     "name": "stdout",
     "output_type": "stream",
     "text": [
      " The name is vaishnavi and its qualification is BE and hobbie is drawing\n"
     ]
    }
   ],
   "source": [
    "class student:\n",
    "    def __init__(self,name,qualification):\n",
    "        self.name=name\n",
    "        self.qualification=qualification\n",
    "    def student_hobbie(self,hobbie):\n",
    "        return f\" The name is {self.name} and its qualification is {self.qualification} and hobbie is {hobbie}\"\n",
    "students=student(\"vaishnavi\",\"BE\")\n",
    "print(students.student_hobbie(\"drawing\"))"
   ]
  },
  {
   "cell_type": "code",
   "execution_count": 61,
   "id": "c1e5845b",
   "metadata": {},
   "outputs": [
    {
     "name": "stdout",
     "output_type": "stream",
     "text": [
      " The name is duster and  its mileage is 34.45km \n"
     ]
    },
    {
     "ename": "AttributeError",
     "evalue": "'car' object has no attribute '__name'",
     "output_type": "error",
     "traceback": [
      "\u001b[1;31m---------------------------------------------------------------------------\u001b[0m",
      "\u001b[1;31mAttributeError\u001b[0m                            Traceback (most recent call last)",
      "\u001b[1;32m~\\AppData\\Local\\Temp/ipykernel_20520/3173295525.py\u001b[0m in \u001b[0;36m<module>\u001b[1;34m\u001b[0m\n\u001b[0;32m     10\u001b[0m \u001b[0mprint\u001b[0m\u001b[1;33m(\u001b[0m\u001b[0mobj\u001b[0m\u001b[1;33m.\u001b[0m\u001b[0mdescription\u001b[0m\u001b[1;33m(\u001b[0m\u001b[1;33m)\u001b[0m\u001b[1;33m)\u001b[0m\u001b[1;33m\u001b[0m\u001b[1;33m\u001b[0m\u001b[0m\n\u001b[0;32m     11\u001b[0m \u001b[1;33m\u001b[0m\u001b[0m\n\u001b[1;32m---> 12\u001b[1;33m \u001b[0mprint\u001b[0m\u001b[1;33m(\u001b[0m\u001b[0mobj\u001b[0m\u001b[1;33m.\u001b[0m\u001b[0m__name\u001b[0m\u001b[1;33m)\u001b[0m\u001b[1;33m\u001b[0m\u001b[1;33m\u001b[0m\u001b[0m\n\u001b[0m\u001b[0;32m     13\u001b[0m \u001b[0mprint\u001b[0m\u001b[1;33m(\u001b[0m\u001b[0mobj\u001b[0m\u001b[1;33m.\u001b[0m\u001b[0mmileage\u001b[0m\u001b[1;33m)\u001b[0m\u001b[1;33m\u001b[0m\u001b[1;33m\u001b[0m\u001b[0m\n",
      "\u001b[1;31mAttributeError\u001b[0m: 'car' object has no attribute '__name'"
     ]
    }
   ],
   "source": [
    "class car:\n",
    "    def __init__(self,name,mileage):\n",
    "        self._name=name                                #private\n",
    "        self.mileage=mileage\n",
    "    def description(self):\n",
    "        return f\" The name is {self._name} and  its mileage is {self.mileage}km \"\n",
    "\n",
    "obj=car(\"duster\",34.45)\n",
    "\n",
    "print(obj.description())\n",
    "\n",
    "print(obj.__name)\n",
    "print(obj.mileage)\n"
   ]
  },
  {
   "cell_type": "code",
   "execution_count": 52,
   "id": "485155a5",
   "metadata": {},
   "outputs": [
    {
     "name": "stdout",
     "output_type": "stream",
     "text": [
      " The name is vaishnavi and its course is python and mam is sanvee\n"
     ]
    }
   ],
   "source": [
    "class nettech:\n",
    "    def __init__(self,name,course):\n",
    "        self.name=name\n",
    "        self.course=course\n",
    "    def nettech_mam(self,mam):\n",
    "        return f\" The name is {self.name} and its course is {self.course} and mam is {mam}\"\n",
    "nettechindia=nettech(\"vaishnavi\",\"python\")  \n",
    "print(nettechindia.nettech_mam(\"sanvee\"))"
   ]
  },
  {
   "cell_type": "code",
   "execution_count": 63,
   "id": "cf4f3c84",
   "metadata": {},
   "outputs": [
    {
     "name": "stdout",
     "output_type": "stream",
     "text": [
      " The name is duster and  its mileage is 34.45km \n",
      "duster\n",
      "34.45\n"
     ]
    }
   ],
   "source": [
    "class car:\n",
    "    def __init__(self,name,mileage):          # private \n",
    "        self.__name=name\n",
    "        self.mileage=mileage\n",
    "    def description(self):\n",
    "        return f\" The name is {self.__name} and  its mileage is {self.mileage}km \"\n",
    "\n",
    "obj=car(\"duster\",34.45)\n",
    "\n",
    "print(obj.description())\n",
    "\n",
    "print(obj._car__name)\n",
    "print(obj.mileage)                 #mangland\n"
   ]
  },
  {
   "cell_type": "code",
   "execution_count": 64,
   "id": "5ee1af84",
   "metadata": {},
   "outputs": [
    {
     "name": "stdout",
     "output_type": "stream",
     "text": [
      " The name is duster and  its mileage is 34.45km \n",
      "duster\n",
      "34.45\n"
     ]
    }
   ],
   "source": [
    "class car:\n",
    "    def __init__(self,name,mileage):                  #protected variable\n",
    "        self._name=name\n",
    "        self.mileage=mileage\n",
    "    def description(self):\n",
    "        return f\" The name is {self._name} and  its mileage is {self.mileage}km \"\n",
    "\n",
    "obj=car(\"duster\",34.45)\n",
    "\n",
    "print(obj.description())\n",
    "\n",
    "print(obj._name)\n",
    "print(obj.mileage)\n"
   ]
  },
  {
   "cell_type": "code",
   "execution_count": 13,
   "id": "b8bf38ab",
   "metadata": {},
   "outputs": [
    {
     "name": "stdout",
     "output_type": "stream",
     "text": [
      " The age is 40 and its behaviour is loving\n",
      "40\n",
      "loving\n"
     ]
    }
   ],
   "source": [
    "class women:\n",
    "    def __init__(self,age,behaviour):\n",
    "        self._age=age\n",
    "        self.behaviour=behaviour\n",
    "    def women(self):\n",
    "        return f\" The age is {self._age} and its behaviour is {self.behaviour}\"\n",
    "obj = women(40,\"loving\")  \n",
    "\n",
    "print(obj.women())\n",
    "\n",
    "print(obj._age)\n",
    "print(obj.behaviour)"
   ]
  },
  {
   "cell_type": "code",
   "execution_count": 19,
   "id": "241ffab8",
   "metadata": {},
   "outputs": [
    {
     "name": "stdout",
     "output_type": "stream",
     "text": [
      " The surname is Akre and its education is BE and collage name is YTIET and its branch is computer\n"
     ]
    }
   ],
   "source": [
    "class vaishnavi:\n",
    "    def __init__(self,surname,education,collage):\n",
    "        self.surname=surname\n",
    "        self.education=education\n",
    "        self.collage=collage\n",
    "    def vaishnavi_branch(self,branch):\n",
    "        return f\" The surname is {self.surname} and its education is {self.education} and collage name is {self.collage} and its branch is {branch}\"\n",
    "vaishnavi1 = vaishnavi(\"Akre\",\"BE\",\"YTIET\")\n",
    "print(vaishnavi1.vaishnavi_branch(\"computer\"))"
   ]
  },
  {
   "cell_type": "code",
   "execution_count": 38,
   "id": "1f057695",
   "metadata": {},
   "outputs": [
    {
     "name": "stdout",
     "output_type": "stream",
     "text": [
      " The name is swif and its mileage is 30.29 \n",
      "swif\n"
     ]
    },
    {
     "ename": "AttributeError",
     "evalue": "'car' object has no attribute '__mileage'",
     "output_type": "error",
     "traceback": [
      "\u001b[1;31m---------------------------------------------------------------------------\u001b[0m",
      "\u001b[1;31mAttributeError\u001b[0m                            Traceback (most recent call last)",
      "\u001b[1;32m~\\AppData\\Local\\Temp/ipykernel_10804/4292634509.py\u001b[0m in \u001b[0;36m<module>\u001b[1;34m\u001b[0m\n\u001b[0;32m      8\u001b[0m \u001b[0mprint\u001b[0m\u001b[1;33m(\u001b[0m\u001b[0mobj\u001b[0m\u001b[1;33m.\u001b[0m\u001b[0mcar\u001b[0m\u001b[1;33m(\u001b[0m\u001b[1;33m)\u001b[0m\u001b[1;33m)\u001b[0m\u001b[1;33m\u001b[0m\u001b[1;33m\u001b[0m\u001b[0m\n\u001b[0;32m      9\u001b[0m \u001b[0mprint\u001b[0m\u001b[1;33m(\u001b[0m\u001b[0mobj\u001b[0m\u001b[1;33m.\u001b[0m\u001b[0m_name\u001b[0m\u001b[1;33m)\u001b[0m\u001b[1;33m\u001b[0m\u001b[1;33m\u001b[0m\u001b[0m\n\u001b[1;32m---> 10\u001b[1;33m \u001b[0mprint\u001b[0m\u001b[1;33m(\u001b[0m\u001b[0mobj\u001b[0m\u001b[1;33m.\u001b[0m\u001b[0m__mileage\u001b[0m\u001b[1;33m)\u001b[0m\u001b[1;33m\u001b[0m\u001b[1;33m\u001b[0m\u001b[0m\n\u001b[0m",
      "\u001b[1;31mAttributeError\u001b[0m: 'car' object has no attribute '__mileage'"
     ]
    }
   ],
   "source": [
    "class car :\n",
    "    def __init__(self,name,mileage):             # privated\n",
    "        self._name=name\n",
    "        self._mileage=mileage\n",
    "    def car(self):\n",
    "        return f\" The name is {self._name} and its mileage is {self._mileage} \"\n",
    "obj = car(\"swif\",30.29)\n",
    "print(obj.car())\n",
    "print(obj._name)\n",
    "print(obj.__mileage)"
   ]
  },
  {
   "cell_type": "code",
   "execution_count": 11,
   "id": "9ab06d22",
   "metadata": {},
   "outputs": [
    {
     "name": "stdout",
     "output_type": "stream",
     "text": [
      " The tanvi education is Btech and its hobbie is playing and clg is pawar\n"
     ]
    }
   ],
   "source": [
    "class tanvi :\n",
    "    def __init__(self,education,hobbie):\n",
    "        self.education = education\n",
    "        self.hobbie=hobbie\n",
    "    def tanvi_clg(self,clg):\n",
    "        return f\" The tanvi education is {self.education} and its hobbie is {self.hobbie} and clg is {clg}\"\n",
    "tanvi1 = tanvi(\"Btech\",\"playing\") \n",
    "print(tanvi1.tanvi_clg(\"pawar\"))"
   ]
  },
  {
   "cell_type": "code",
   "execution_count": 10,
   "id": "ca11c01a",
   "metadata": {},
   "outputs": [
    {
     "name": "stdout",
     "output_type": "stream",
     "text": [
      " The soham education has BE and its hobbies has playing and clg is YTIET \n"
     ]
    }
   ],
   "source": [
    "class soham :\n",
    "    def __init__(self,education, hobbie):\n",
    "        self.education = education\n",
    "        self.hobbie = hobbie\n",
    "    def soham_clg(self,clg):\n",
    "            return f\" The soham education has {self.education} and its hobbies has {self.hobbie} and clg is {clg} \"\n",
    "soham1=soham(\"BE\",\"playing\")\n",
    "print(soham1.soham_clg(\"YTIET\"))"
   ]
  },
  {
   "cell_type": "code",
   "execution_count": 9,
   "id": "7f889b67",
   "metadata": {},
   "outputs": [
    {
     "name": "stdout",
     "output_type": "stream",
     "text": [
      " The vaishnavi simle is cute and its color is cream and hair is curly\n"
     ]
    }
   ],
   "source": [
    "class vaishnavi:\n",
    "    def __init__(self,smile,color):\n",
    "        self.smile = smile\n",
    "        self.color = color\n",
    "    def vaishnavi_hair(self,hair):\n",
    "        return f\" The vaishnavi simle is {self.smile} and its color is {self.color} and hair is {hair}\"\n",
    "vaishnavi1=vaishnavi(\"cute\",\"cream\")\n",
    "print(vaishnavi1.vaishnavi_hair(\"curly\"))"
   ]
  },
  {
   "cell_type": "code",
   "execution_count": 4,
   "id": "6e19834a",
   "metadata": {},
   "outputs": [
    {
     "name": "stdout",
     "output_type": "stream",
     "text": [
      " The admission is 500 and its student is 100\n",
      "500\n"
     ]
    },
    {
     "ename": "AttributeError",
     "evalue": "'clg' object has no attribute '__student'",
     "output_type": "error",
     "traceback": [
      "\u001b[1;31m---------------------------------------------------------------------------\u001b[0m",
      "\u001b[1;31mAttributeError\u001b[0m                            Traceback (most recent call last)",
      "\u001b[1;32m~\\AppData\\Local\\Temp/ipykernel_14528/2483136502.py\u001b[0m in \u001b[0;36m<module>\u001b[1;34m\u001b[0m\n\u001b[0;32m      8\u001b[0m \u001b[0mprint\u001b[0m\u001b[1;33m(\u001b[0m\u001b[0mobj\u001b[0m\u001b[1;33m.\u001b[0m\u001b[0mclg\u001b[0m\u001b[1;33m(\u001b[0m\u001b[1;33m)\u001b[0m\u001b[1;33m)\u001b[0m\u001b[1;33m\u001b[0m\u001b[1;33m\u001b[0m\u001b[0m\n\u001b[0;32m      9\u001b[0m \u001b[0mprint\u001b[0m\u001b[1;33m(\u001b[0m\u001b[0mobj\u001b[0m\u001b[1;33m.\u001b[0m\u001b[0madmission\u001b[0m\u001b[1;33m)\u001b[0m\u001b[1;33m\u001b[0m\u001b[1;33m\u001b[0m\u001b[0m\n\u001b[1;32m---> 10\u001b[1;33m \u001b[0mprint\u001b[0m\u001b[1;33m(\u001b[0m\u001b[0mobj\u001b[0m\u001b[1;33m.\u001b[0m\u001b[0m__student\u001b[0m\u001b[1;33m)\u001b[0m\u001b[1;33m\u001b[0m\u001b[1;33m\u001b[0m\u001b[0m\n\u001b[0m",
      "\u001b[1;31mAttributeError\u001b[0m: 'clg' object has no attribute '__student'"
     ]
    }
   ],
   "source": [
    "class clg:\n",
    "    def __init__(self,admission,student):\n",
    "        self.admission = admission\n",
    "        self._student = student\n",
    "    def clg (self):\n",
    "        return f\" The admission is {self.admission} and its student is {self._student}\"\n",
    "obj=clg(500,100)\n",
    "print(obj.clg())\n",
    "print(obj.admission)\n",
    "print(obj.__student)"
   ]
  },
  {
   "cell_type": "code",
   "execution_count": 7,
   "id": "09bdb68d",
   "metadata": {},
   "outputs": [
    {
     "name": "stdout",
     "output_type": "stream",
     "text": [
      " The color is white and its age is 23\n",
      "white\n",
      "23\n"
     ]
    }
   ],
   "source": [
    "class vaishnavi:\n",
    "    def __init__(self,color,age):\n",
    "        self.color = color\n",
    "        self.age = age\n",
    "    def vaishnavi(self):\n",
    "        return f\" The color is {self.color} and its age is {self.age}\"\n",
    "obj = vaishnavi(\"white\",23)\n",
    "print(obj.vaishnavi())\n",
    "print(obj.color)\n",
    "print(obj.age)"
   ]
  },
  {
   "cell_type": "code",
   "execution_count": 8,
   "id": "4889926f",
   "metadata": {},
   "outputs": [
    {
     "name": "stdout",
     "output_type": "stream",
     "text": [
      " The clg is pawar and its age is 21\n",
      "pawar\n",
      "21\n"
     ]
    }
   ],
   "source": [
    "class tanvi:\n",
    "    def __init__(self,clg,age):\n",
    "        self.clg = clg\n",
    "        self.age = age\n",
    "    def tanvi(self):\n",
    "        return f\" The clg is {self.clg} and its age is {self.age}\"\n",
    "obj = tanvi(\"pawar\",21)\n",
    "print(obj.tanvi())\n",
    "print(obj.clg)\n",
    "print(obj.age)"
   ]
  },
  {
   "cell_type": "code",
   "execution_count": 20,
   "id": "25e7342f",
   "metadata": {},
   "outputs": [
    {
     "name": "stdout",
     "output_type": "stream",
     "text": [
      " The course is python and month is 3\n",
      "python\n"
     ]
    },
    {
     "ename": "AttributeError",
     "evalue": "'nettech' object has no attribute '__month'",
     "output_type": "error",
     "traceback": [
      "\u001b[1;31m---------------------------------------------------------------------------\u001b[0m",
      "\u001b[1;31mAttributeError\u001b[0m                            Traceback (most recent call last)",
      "\u001b[1;32m~\\AppData\\Local\\Temp/ipykernel_14528/2056519606.py\u001b[0m in \u001b[0;36m<module>\u001b[1;34m\u001b[0m\n\u001b[0;32m      8\u001b[0m \u001b[0mprint\u001b[0m\u001b[1;33m(\u001b[0m\u001b[0mobj\u001b[0m\u001b[1;33m.\u001b[0m\u001b[0mnettech\u001b[0m\u001b[1;33m(\u001b[0m\u001b[1;33m)\u001b[0m\u001b[1;33m)\u001b[0m\u001b[1;33m\u001b[0m\u001b[1;33m\u001b[0m\u001b[0m\n\u001b[0;32m      9\u001b[0m \u001b[0mprint\u001b[0m\u001b[1;33m(\u001b[0m\u001b[0mobj\u001b[0m\u001b[1;33m.\u001b[0m\u001b[0mcourse\u001b[0m\u001b[1;33m)\u001b[0m\u001b[1;33m\u001b[0m\u001b[1;33m\u001b[0m\u001b[0m\n\u001b[1;32m---> 10\u001b[1;33m \u001b[0mprint\u001b[0m\u001b[1;33m(\u001b[0m\u001b[0mobj\u001b[0m\u001b[1;33m.\u001b[0m\u001b[0m__month\u001b[0m\u001b[1;33m)\u001b[0m\u001b[1;33m\u001b[0m\u001b[1;33m\u001b[0m\u001b[0m\n\u001b[0m",
      "\u001b[1;31mAttributeError\u001b[0m: 'nettech' object has no attribute '__month'"
     ]
    }
   ],
   "source": [
    "class nettech:\n",
    "    def __init__(self,course,month):\n",
    "        self.course = course\n",
    "        self._month = month\n",
    "    def nettech(self):\n",
    "        return f\" The course is {self.course} and month is {self._month}\"\n",
    "obj = nettech(\"python\",3)\n",
    "print(obj.nettech())\n",
    "print(obj.course)\n",
    "print(obj.__month)"
   ]
  },
  {
   "cell_type": "code",
   "execution_count": 17,
   "id": "1c961d90",
   "metadata": {},
   "outputs": [
    {
     "name": "stdout",
     "output_type": "stream",
     "text": [
      " The course is python and month is 3\n",
      "python\n",
      "3\n"
     ]
    }
   ],
   "source": [
    "class nettech:\n",
    "    def __init__(self,course,month):\n",
    "        self.course = course\n",
    "        self.__month = month\n",
    "    def nettech(self):\n",
    "        return f\" The course is {self.course} and month is {self.__month}\"\n",
    "obj = nettech(\"python\",3)\n",
    "print(obj.nettech())\n",
    "print(obj.course)\n",
    "print(obj._nettech__month)"
   ]
  },
  {
   "cell_type": "code",
   "execution_count": null,
   "id": "ca322b8b",
   "metadata": {},
   "outputs": [],
   "source": []
  }
 ],
 "metadata": {
  "kernelspec": {
   "display_name": "Python 3 (ipykernel)",
   "language": "python",
   "name": "python3"
  },
  "language_info": {
   "codemirror_mode": {
    "name": "ipython",
    "version": 3
   },
   "file_extension": ".py",
   "mimetype": "text/x-python",
   "name": "python",
   "nbconvert_exporter": "python",
   "pygments_lexer": "ipython3",
   "version": "3.9.7"
  }
 },
 "nbformat": 4,
 "nbformat_minor": 5
}
