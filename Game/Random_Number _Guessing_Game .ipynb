{
 "cells": [
  {
   "cell_type": "code",
   "execution_count": 2,
   "id": "2303bf59",
   "metadata": {},
   "outputs": [
    {
     "name": "stdout",
     "output_type": "stream",
     "text": [
      "Enter Your Number:---70\n",
      "Computer Number 99\n",
      "Your guess number is too low \n"
     ]
    }
   ],
   "source": [
    "import random \n",
    "cnumber = random.randrange(1,101)\n",
    "userinput = int(input(\"Enter Your Number:---\"))\n",
    "if userinput>cnumber:\n",
    "    print(\"Computer Number\",cnumber)\n",
    "    print(\" Your guess number is too high\")\n",
    "elif cnumber>userinput:\n",
    "    print(\"Computer Number\",cnumber)\n",
    "    print(\"Your guess number is too low \")\n",
    "else:\n",
    "    print(\"Computer Number\",cnumber)\n",
    "    print(\"Your guess number is equal \")\n"
   ]
  },
  {
   "cell_type": "code",
   "execution_count": null,
   "id": "c1a20818",
   "metadata": {},
   "outputs": [],
   "source": []
  }
 ],
 "metadata": {
  "kernelspec": {
   "display_name": "Python 3 (ipykernel)",
   "language": "python",
   "name": "python3"
  },
  "language_info": {
   "codemirror_mode": {
    "name": "ipython",
    "version": 3
   },
   "file_extension": ".py",
   "mimetype": "text/x-python",
   "name": "python",
   "nbconvert_exporter": "python",
   "pygments_lexer": "ipython3",
   "version": "3.9.7"
  }
 },
 "nbformat": 4,
 "nbformat_minor": 5
}
